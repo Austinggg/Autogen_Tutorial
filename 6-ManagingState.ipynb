{
 "cells": [
  {
   "cell_type": "markdown",
   "id": "1aec6280",
   "metadata": {},
   "source": [
    "# Managing State\n",
    "\n",
    "到目前为止，我们已经学习了如何构建多智能体系统中的核心组件——如 Agents、Teams 和 Termination Conditions。\n",
    "在真实应用中（尤其是 Web 应用），我们经常需要：\n",
    "\n",
    "保存这些组件的运行状态到磁盘，以及\n",
    "\n",
    "在之后重新加载这些状态，以便恢复中断的会话或继续未完成的任务。\n",
    "\n",
    "这是因为许多 Web 应用是无状态的（stateless）：每次请求不会保留上次运行的内存数据。为了让系统“记得”对话进展，我们必须使用持久化机制保存组件状态。\n",
    "\n",
    "🧠 在本节中，你将学到：\n",
    "\n",
    "✅ 如何保存 agent、team、termination condition 的当前状态；\n",
    "\n",
    "✅ 如何从保存的数据中重新加载并恢复运行；\n",
    "\n",
    "✅ 为什么这对构建持续会话、异步交互和前端集成特别关键。"
   ]
  },
  {
   "cell_type": "markdown",
   "id": "eb39f30a",
   "metadata": {},
   "source": [
    "## 配置 Client"
   ]
  },
  {
   "cell_type": "code",
   "execution_count": 3,
   "id": "582aa17a",
   "metadata": {},
   "outputs": [],
   "source": [
    "import os\n",
    "from dotenv import load_dotenv\n",
    "from autogen_ext.models.openai import OpenAIChatCompletionClient\n",
    "\n",
    "load_dotenv()\n",
    "siliconflow_api_key = os.getenv(\"SILICONFLOW_API_KEY\") # 读取你的 OPENAI API key\n",
    "\n",
    "# 初始化 OpenAIChatCompletionClient 客户端，连接到硅基流动平台的 Qwen3-8B 模型\n",
    "model_client = OpenAIChatCompletionClient(\n",
    "    model=\"Qwen/Qwen3-14B\",                # 指定要调用的模型名称，硅基流动平台上 Qwen 3-8B 模型\n",
    "    base_url=\"https://api.siliconflow.cn/v1\",  # 硅基流动平台的 API 访问地址\n",
    "    api_key=siliconflow_api_key,  # 你的 API 密钥\n",
    "    model_info={                        \n",
    "        \"family\": \"qwen\",              \n",
    "        \"context_length\": 8192,        \n",
    "        \"max_output_tokens\": 2048,     \n",
    "        \"tool_choice_supported\": True, \n",
    "        \"tool_choice_required\": False,  \n",
    "        \"structured_output\": True,     \n",
    "        \"vision\": False,                \n",
    "        \"function_calling\": True,      \n",
    "        \"json_output\": True           \n",
    "    },\n",
    ")"
   ]
  },
  {
   "cell_type": "markdown",
   "id": "ddd90b64",
   "metadata": {},
   "source": [
    "## Saving and Loading Agents\n",
    "\n",
    "我们可以通过在 AssistantAgent 上调用 `.save_state()` 方法，来获取该智能体的状态信息。"
   ]
  },
  {
   "cell_type": "code",
   "execution_count": 2,
   "id": "97f9b04a",
   "metadata": {},
   "outputs": [
    {
     "name": "stdout",
     "output_type": "stream",
     "text": [
      "source='assistant_agent' models_usage=RequestUsage(prompt_tokens=29, completion_tokens=452) metadata={} content=\"\\n\\nLake Tanganyika, a rift's sapphire gem,  \\nWhere ancient tides whisper secrets to the sun,  \\nLife thrives in depths, a world untouched by time.\" type='TextMessage'\n"
     ]
    }
   ],
   "source": [
    "from autogen_agentchat.agents import AssistantAgent\n",
    "from autogen_agentchat.conditions import MaxMessageTermination\n",
    "from autogen_agentchat.messages import TextMessage\n",
    "from autogen_agentchat.teams import RoundRobinGroupChat\n",
    "from autogen_agentchat.ui import Console\n",
    "from autogen_core import CancellationToken\n",
    "from autogen_ext.models.openai import OpenAIChatCompletionClient\n",
    "\n",
    "# 假设 model_client 已在前面初始化\n",
    "model_client = model_client\n",
    "\n",
    "assistant_agent = AssistantAgent(\n",
    "    name=\"assistant_agent\",\n",
    "    system_message=\"You are a helpful assistant\",\n",
    "    model_client=model_client,\n",
    ")\n",
    "\n",
    "# 在脚本中运行时请用 asyncio.run(...) 包裹主函数\n",
    "response = await assistant_agent.on_messages(\n",
    "    [TextMessage(content=\"Write a 3 line poem on lake tangayika\", source=\"user\")], CancellationToken()\n",
    ")\n",
    "\n",
    "print(response.chat_message)\n",
    "await model_client.close()"
   ]
  },
  {
   "cell_type": "code",
   "execution_count": 5,
   "id": "c07986bf",
   "metadata": {},
   "outputs": [
    {
     "name": "stdout",
     "output_type": "stream",
     "text": [
      "{'type': 'AssistantAgentState', 'version': '1.0.0', 'llm_context': {'messages': [{'content': 'Write a 3 line poem on lake tangayika', 'source': 'user', 'type': 'UserMessage'}, {'content': \"\\n\\nLake Tanganyika, a rift's sapphire gem,  \\nWhere ancient tides whisper secrets to the sun,  \\nLife thrives in depths, a world untouched by time.\", 'thought': '\\nOkay, the user wants a three-line poem about Lake Tanganyika. Let me start by recalling some key facts about the lake. It\\'s one of the largest lakes in the world by volume, located in Africa, specifically in the East African Rift. I should mention its size or depth maybe. Also, it\\'s home to a lot of endemic species, so that\\'s a unique point. The surrounding countries are Tanzania, Burundi, Democratic Republic of Congo, and Zambia. Maybe include something about the countries or the local culture? Also, the lake is known for its clear waters and the presence of certain fish like sardines and tilapia. I should make it concise but vivid. Let me think of some imagery: the lake\\'s vastness, the wildlife, perhaps the sunset or the landscape around it. Need to make sure each line flows well and has a poetic feel. Maybe start with the lake\\'s geographical feature, then move to wildlife, and end with a cultural or scenic element. Check for rhyme scheme. Since it\\'s three lines, maybe a simple rhyme like AB or ABA. Let me try:\\n\\n\"Stretching deep where African skies meet,  \\nTanganyika guards ancient secrets beneath.  \\nIts waters cradle life, lore, and the light of a thousand dreams.\"\\n\\nHmm, the first line mentions the location and depth. Second line refers to the history and mysteries. Third line talks about the ecosystem and maybe the cultural significance. Does that cover it? I need to ensure the poem is accurate and evokes a sense of wonder. Maybe \"ancient secrets\" is a bit vague, but it works for a poem. The last line uses \"cradle\" to show the lake\\'s role in nurturing life, and \"light of a thousand dreams\" could allude to the surrounding landscapes or the people. Let me check if there are any common poetic phrases about lakes that could be better. Alternatively, maybe mention the rift valley origin. But three lines are short, so I have to be concise. I think this works.\\n', 'source': 'assistant_agent', 'type': 'AssistantMessage'}]}}\n"
     ]
    }
   ],
   "source": [
    "agent_state = await assistant_agent.save_state()\n",
    "print(agent_state)"
   ]
  },
  {
   "cell_type": "code",
   "execution_count": 6,
   "id": "216e0527",
   "metadata": {},
   "outputs": [
    {
     "name": "stdout",
     "output_type": "stream",
     "text": [
      "source='assistant_agent' models_usage=RequestUsage(prompt_tokens=86, completion_tokens=209) metadata={} content='\\n\\nThe last line of the previous poem was:  \\n**\"Life thrives in depths, a world untouched by time.\"**  \\n\\nLet me know if you\\'d like to expand or refine it! 🌊' type='TextMessage'\n"
     ]
    }
   ],
   "source": [
    "import os\n",
    "from dotenv import load_dotenv\n",
    "from autogen_ext.models.openai import OpenAIChatCompletionClient\n",
    "\n",
    "load_dotenv()\n",
    "siliconflow_api_key = os.getenv(\"SILICONFLOW_API_KEY\") # 读取你的 OPENAI API key\n",
    "\n",
    "# 重新初始化 OpenAIChatCompletionClient 客户端, 因为上面已经 close client 了\n",
    "model_client = OpenAIChatCompletionClient(\n",
    "    model=\"Qwen/Qwen3-14B\",                # 指定要调用的模型名称\n",
    "    base_url=\"https://api.siliconflow.cn/v1\",  # 硅基流动平台的 API 访问地址\n",
    "    api_key=siliconflow_api_key,  # 你的 API 密钥\n",
    "    model_info={                        \n",
    "        \"family\": \"qwen\",              \n",
    "        \"context_length\": 8192,        \n",
    "        \"max_output_tokens\": 2048,     \n",
    "        \"tool_choice_supported\": True, \n",
    "        \"tool_choice_required\": False,  \n",
    "        \"structured_output\": True,     \n",
    "        \"vision\": False,                \n",
    "        \"function_calling\": True,      \n",
    "        \"json_output\": True           \n",
    "    },\n",
    ")\n",
    "\n",
    "\n",
    "new_assistant_agent = AssistantAgent(\n",
    "    name=\"assistant_agent\",\n",
    "    system_message=\"You are a helpful assistant\",\n",
    "    model_client=model_client,\n",
    ")\n",
    "await new_assistant_agent.load_state(agent_state)\n",
    "\n",
    "# 在脚本中运行时请用 asyncio.run(...) 包裹主函数\n",
    "response = await new_assistant_agent.on_messages(\n",
    "    [TextMessage(content=\"What was the last line of the previous poem you wrote\", source=\"user\")], CancellationToken()\n",
    ")\n",
    "print(response.chat_message)\n",
    "await model_client.close()"
   ]
  },
  {
   "cell_type": "markdown",
   "id": "f733a470",
   "metadata": {},
   "source": [
    "对于 AssistantAgent 来说，它的状态（state）主要包括其所使用的 模型上下文（model_context），也就是：\n",
    "\n",
    "- 当前使用的模型（如 GPT-4、GPT-3.5）\n",
    "\n",
    "- 系统消息（system_message）\n",
    "\n",
    "- 聊天历史（如有）\n",
    "\n",
    "- 工具、token usage 等上下文设置\n",
    "\n",
    "🧩 自定义智能体：建议重写 `save_state()` 和 `load_state()`\n",
    "如果你实现了自己的 agent（继承自 BaseChatAgent 或其他基类），请注意：\n",
    "\n",
    "💡 默认的 `save_state()` 和 `load_state()` 是空实现，不会自动保存任何状态！"
   ]
  },
  {
   "cell_type": "markdown",
   "id": "683e459b",
   "metadata": {},
   "source": [
    "## Saving and Loading Teams\n",
    "\n",
    "在多智能体系统中，保存团队（Team）的状态尤为关键，因为它能同时保存每个 agent 的状态、终止条件、对话历史等完整上下文。\n",
    "\n",
    "**方法说明：**\n",
    "\n",
    "- `team.save_state()`：返回一个包含团队结构和每个 agent 状态的字典，可序列化为 JSON。\n",
    "\n",
    "- `team.load_state(state)`：从字典（或 JSON 数据）中还原团队的完整状态。\n",
    "\n",
    "当你调用 `team.save_state()` 时，它会递归调用团队中所有 agent 的 save_state() 方法，一起打包保存。"
   ]
  },
  {
   "cell_type": "code",
   "execution_count": 7,
   "id": "f426f9eb",
   "metadata": {},
   "outputs": [
    {
     "name": "stdout",
     "output_type": "stream",
     "text": [
      "---------- TextMessage (user) ----------\n",
      "Write a beautiful poem 3-line about lake tangayika\n",
      "---------- ThoughtEvent (assistant_agent) ----------\n",
      "\n",
      "Okay, the user wants a beautiful three-line poem about Lake Tanganyika. Let me start by recalling what I know about Lake Tanganyika. It's one of the largest lakes in the world, located in East Africa, shared by several countries. It's known for its clear waters and the fact that it's a UNESCO World Heritage Site. Also, there's a lot of biodiversity there, including unique fish species.\n",
      "\n",
      "Now, I need to capture the essence of the lake in just three lines. The first line should probably set the scene, maybe talking about its size or beauty. Words like \"giant mirror,\" \"sapphire,\" or \"ancient\" come to mind. The second line could mention the wildlife or the surrounding environment. Maybe something about the fish or the mountains around it. The third line should evoke a feeling or a lasting image, perhaps about timelessness or tranquility. I should use imagery that's vivid but concise. Let me check the syllable count to make sure it flows well. Also, need to make sure each line is a complete thought but connected. Avoid clichés, but use some poetic devices like alliteration or metaphor. Let me try a few combinations. \n",
      "\n",
      "First line: Maybe \"Lake Tanganyika, a giant mirror of sapphire, holds the secrets of ancient times.\" That uses a metaphor and mentions the lake's depth and history. Second line: \"Cichlids dance in the depths where sunlight dares to sink, whispering tales of the world below.\" Cichlids are unique fish there, and the sunlight sinking could refer to the clear water. Third line: \"Amidst the silence, the horizon breathes eternal, cradling the dreams of the valleys.\" This gives a sense of timelessness and connects the lake to the surrounding landscape. Does that work? Check for rhythm and flow. Maybe adjust some words for better meter. \"Whispering tales\" to \"whispers tales\" for consistency. \"Eternal\" might be a bit strong, but it conveys timelessness. Okay, that seems to fit. Let me make sure there's no factual errors. Tanganyika is indeed home to many cichlid species and is very old, so \"ancient secrets\" is appropriate. The horizon breathing eternal could be a stretch, but it's poetic. Alright, I think this works.\n",
      "\n",
      "---------- TextMessage (assistant_agent) ----------\n",
      "\n",
      "\n",
      "Lake Tanganyika, a sapphire scar across Africa’s heart,  \n",
      "Where cichlids weave sunlit tales in waters deep and dark,  \n",
      "Time whispers through waves, cradling myths the earth forgot.\n"
     ]
    }
   ],
   "source": [
    "import os\n",
    "from dotenv import load_dotenv\n",
    "from autogen_ext.models.openai import OpenAIChatCompletionClient\n",
    "from autogen_agentchat.agents import AssistantAgent\n",
    "from autogen_agentchat.conditions import MaxMessageTermination\n",
    "from autogen_agentchat.teams import RoundRobinGroupChat\n",
    "from autogen_agentchat.ui import Console\n",
    "\n",
    "# 加载环境变量，获取 API 密钥\n",
    "load_dotenv()\n",
    "siliconflow_api_key = os.getenv(\"SILICONFLOW_API_KEY\")  # 读取你的 API key\n",
    "\n",
    "# 初始化 OpenAIChatCompletionClient 客户端，连接到硅基流动平台的 Qwen3-14B 模型\n",
    "model_client = OpenAIChatCompletionClient(\n",
    "    model=\"Qwen/Qwen3-14B\",                # 指定要调用的模型名称\n",
    "    base_url=\"https://api.siliconflow.cn/v1\",  # 硅基流动平台的 API 访问地址\n",
    "    api_key=siliconflow_api_key,  # 你的 API 密钥\n",
    "    model_info={                        \n",
    "        \"family\": \"qwen\",              \n",
    "        \"context_length\": 8192,        \n",
    "        \"max_output_tokens\": 2048,     \n",
    "        \"tool_choice_supported\": True, \n",
    "        \"tool_choice_required\": False,  \n",
    "        \"structured_output\": True,     \n",
    "        \"vision\": False,                \n",
    "        \"function_calling\": True,      \n",
    "        \"json_output\": True           \n",
    "    },\n",
    ")\n",
    "\n",
    "# 定义一个助手智能体\n",
    "assistant_agent = AssistantAgent(\n",
    "    name=\"assistant_agent\",\n",
    "    system_message=\"You are a helpful assistant\",\n",
    "    model_client=model_client,\n",
    ")\n",
    "\n",
    "# 创建一个团队，设置最大消息数为2，达到后自动终止\n",
    "agent_team = RoundRobinGroupChat([assistant_agent], termination_condition=MaxMessageTermination(max_messages=2))\n",
    "\n",
    "# 运行团队任务，并将消息流式输出到控制台\n",
    "stream = agent_team.run_stream(task=\"Write a beautiful poem 3-line about lake tangayika\")\n",
    "await Console(stream)\n",
    "\n",
    "# 保存团队的当前状态（包括 agent 状态、对话历史、终止条件等）\n",
    "team_state = await agent_team.save_state()"
   ]
  },
  {
   "cell_type": "markdown",
   "id": "7f4cdb09",
   "metadata": {},
   "source": [
    "如果我们重置团队（相当于重新实例化团队），然后提出问题“你写的诗的最后一句是什么？”，我们会发现团队无法完成这个任务，因为它无法引用之前的运行记录。"
   ]
  },
  {
   "cell_type": "code",
   "execution_count": 8,
   "id": "e4d6566e",
   "metadata": {},
   "outputs": [
    {
     "name": "stdout",
     "output_type": "stream",
     "text": [
      "---------- TextMessage (user) ----------\n",
      "What was the last line of the poem you wrote?\n",
      "---------- ThoughtEvent (assistant_agent) ----------\n",
      "\n",
      "Okay, the user is asking for the last line of the poem I wrote. Wait, did I write a poem before?\n",
      "\n",
      "Let me check the conversation history. Hmm, the user just started a new chat. There's no previous poem mentioned. Maybe they're referring to a poem I generated in a previous interaction that isn't recorded here. But in this context, I don't have any prior poems to reference.\n",
      "\n",
      "I should clarify that I didn't write a poem in this conversation. I need to respond politely, letting them know I can help create one if they want. Maybe offer to write a poem for them now. Keep the tone friendly and helpful.\n",
      "\n",
      "---------- TextMessage (assistant_agent) ----------\n",
      "\n",
      "\n",
      "I didn't write a poem in our conversation yet! But I'd be happy to create one for you if you'd like. What kind of poem would you like me to write?\n"
     ]
    },
    {
     "data": {
      "text/plain": [
       "TaskResult(messages=[TextMessage(source='user', models_usage=None, metadata={}, content='What was the last line of the poem you wrote?', type='TextMessage'), ThoughtEvent(source='assistant_agent', models_usage=None, metadata={}, content=\"\\nOkay, the user is asking for the last line of the poem I wrote. Wait, did I write a poem before?\\n\\nLet me check the conversation history. Hmm, the user just started a new chat. There's no previous poem mentioned. Maybe they're referring to a poem I generated in a previous interaction that isn't recorded here. But in this context, I don't have any prior poems to reference.\\n\\nI should clarify that I didn't write a poem in this conversation. I need to respond politely, letting them know I can help create one if they want. Maybe offer to write a poem for them now. Keep the tone friendly and helpful.\\n\", type='ThoughtEvent'), TextMessage(source='assistant_agent', models_usage=RequestUsage(prompt_tokens=29, completion_tokens=171), metadata={}, content=\"\\n\\nI didn't write a poem in our conversation yet! But I'd be happy to create one for you if you'd like. What kind of poem would you like me to write?\", type='TextMessage')], stop_reason='Maximum number of messages 2 reached, current message count: 2')"
      ]
     },
     "execution_count": 8,
     "metadata": {},
     "output_type": "execute_result"
    },
    {
     "data": {
      "text/plain": [
       "TaskResult(messages=[TextMessage(source='user', models_usage=None, metadata={}, content='What was the last line of the poem you wrote?', type='TextMessage'), ThoughtEvent(source='assistant_agent', models_usage=None, metadata={}, content=\"\\nOkay, the user is asking for the last line of the poem I wrote. Let me check the conversation history. Wait, looking back, I don't remember writing any poem in our previous messages. The user might be referring to a poem I mentioned earlier, but I need to confirm.\\n\\nI should respond by letting them know I haven't written a poem yet. Maybe they thought I did, but I need to be clear. Also, I can offer to write one if they want. But I need to make sure I'm not assuming anything. Let me phrase it politely and open-ended to invite them to ask for a poem if that's what they need.\\n\", type='ThoughtEvent'), TextMessage(source='assistant_agent', models_usage=RequestUsage(prompt_tokens=29, completion_tokens=172), metadata={}, content=\"\\n\\nI haven't written a poem yet in our conversation! Would you like me to create one for you? I’d be happy to craft something original based on your preferences. 🌟\", type='TextMessage')], stop_reason='Maximum number of messages 2 reached, current message count: 2')"
      ]
     },
     "execution_count": 18,
     "metadata": {},
     "output_type": "execute_result"
    }
   ],
   "source": [
    "await agent_team.reset()\n",
    "stream = agent_team.run_stream(task=\"What was the last line of the poem you wrote?\")\n",
    "await Console(stream)"
   ]
  },
  {
   "cell_type": "markdown",
   "id": "065a32e8",
   "metadata": {},
   "source": [
    "接下来，我们加载团队的状态并提出同样的问题。我们可以看到，团队能够准确地返回它之前所写诗歌的最后一句。\n"
   ]
  },
  {
   "cell_type": "code",
   "execution_count": 9,
   "id": "c1013b4d",
   "metadata": {},
   "outputs": [
    {
     "name": "stdout",
     "output_type": "stream",
     "text": [
      "{'type': 'TeamState', 'version': '1.0.0', 'agent_states': {'assistant_agent': {'type': 'ChatAgentContainerState', 'version': '1.0.0', 'agent_state': {'type': 'AssistantAgentState', 'version': '1.0.0', 'llm_context': {'messages': [{'content': 'Write a beautiful poem 3-line about lake tangayika', 'source': 'user', 'type': 'UserMessage'}, {'content': '\\n\\nLake Tanganyika, a sapphire scar across Africa’s heart,  \\nWhere cichlids weave sunlit tales in waters deep and dark,  \\nTime whispers through waves, cradling myths the earth forgot.', 'thought': '\\nOkay, the user wants a beautiful three-line poem about Lake Tanganyika. Let me start by recalling what I know about Lake Tanganyika. It\\'s one of the largest lakes in the world, located in East Africa, shared by several countries. It\\'s known for its clear waters and the fact that it\\'s a UNESCO World Heritage Site. Also, there\\'s a lot of biodiversity there, including unique fish species.\\n\\nNow, I need to capture the essence of the lake in just three lines. The first line should probably set the scene, maybe talking about its size or beauty. Words like \"giant mirror,\" \"sapphire,\" or \"ancient\" come to mind. The second line could mention the wildlife or the surrounding environment. Maybe something about the fish or the mountains around it. The third line should evoke a feeling or a lasting image, perhaps about timelessness or tranquility. I should use imagery that\\'s vivid but concise. Let me check the syllable count to make sure it flows well. Also, need to make sure each line is a complete thought but connected. Avoid clichés, but use some poetic devices like alliteration or metaphor. Let me try a few combinations. \\n\\nFirst line: Maybe \"Lake Tanganyika, a giant mirror of sapphire, holds the secrets of ancient times.\" That uses a metaphor and mentions the lake\\'s depth and history. Second line: \"Cichlids dance in the depths where sunlight dares to sink, whispering tales of the world below.\" Cichlids are unique fish there, and the sunlight sinking could refer to the clear water. Third line: \"Amidst the silence, the horizon breathes eternal, cradling the dreams of the valleys.\" This gives a sense of timelessness and connects the lake to the surrounding landscape. Does that work? Check for rhythm and flow. Maybe adjust some words for better meter. \"Whispering tales\" to \"whispers tales\" for consistency. \"Eternal\" might be a bit strong, but it conveys timelessness. Okay, that seems to fit. Let me make sure there\\'s no factual errors. Tanganyika is indeed home to many cichlid species and is very old, so \"ancient secrets\" is appropriate. The horizon breathing eternal could be a stretch, but it\\'s poetic. Alright, I think this works.\\n', 'source': 'assistant_agent', 'type': 'AssistantMessage'}]}}, 'message_buffer': []}, 'RoundRobinGroupChatManager': {'type': 'RoundRobinManagerState', 'version': '1.0.0', 'message_thread': [{'source': 'user', 'models_usage': None, 'metadata': {}, 'content': 'Write a beautiful poem 3-line about lake tangayika', 'type': 'TextMessage'}, {'source': 'assistant_agent', 'models_usage': None, 'metadata': {}, 'content': '\\nOkay, the user wants a beautiful three-line poem about Lake Tanganyika. Let me start by recalling what I know about Lake Tanganyika. It\\'s one of the largest lakes in the world, located in East Africa, shared by several countries. It\\'s known for its clear waters and the fact that it\\'s a UNESCO World Heritage Site. Also, there\\'s a lot of biodiversity there, including unique fish species.\\n\\nNow, I need to capture the essence of the lake in just three lines. The first line should probably set the scene, maybe talking about its size or beauty. Words like \"giant mirror,\" \"sapphire,\" or \"ancient\" come to mind. The second line could mention the wildlife or the surrounding environment. Maybe something about the fish or the mountains around it. The third line should evoke a feeling or a lasting image, perhaps about timelessness or tranquility. I should use imagery that\\'s vivid but concise. Let me check the syllable count to make sure it flows well. Also, need to make sure each line is a complete thought but connected. Avoid clichés, but use some poetic devices like alliteration or metaphor. Let me try a few combinations. \\n\\nFirst line: Maybe \"Lake Tanganyika, a giant mirror of sapphire, holds the secrets of ancient times.\" That uses a metaphor and mentions the lake\\'s depth and history. Second line: \"Cichlids dance in the depths where sunlight dares to sink, whispering tales of the world below.\" Cichlids are unique fish there, and the sunlight sinking could refer to the clear water. Third line: \"Amidst the silence, the horizon breathes eternal, cradling the dreams of the valleys.\" This gives a sense of timelessness and connects the lake to the surrounding landscape. Does that work? Check for rhythm and flow. Maybe adjust some words for better meter. \"Whispering tales\" to \"whispers tales\" for consistency. \"Eternal\" might be a bit strong, but it conveys timelessness. Okay, that seems to fit. Let me make sure there\\'s no factual errors. Tanganyika is indeed home to many cichlid species and is very old, so \"ancient secrets\" is appropriate. The horizon breathing eternal could be a stretch, but it\\'s poetic. Alright, I think this works.\\n', 'type': 'ThoughtEvent'}, {'source': 'assistant_agent', 'models_usage': {'prompt_tokens': 30, 'completion_tokens': 528}, 'metadata': {}, 'content': '\\n\\nLake Tanganyika, a sapphire scar across Africa’s heart,  \\nWhere cichlids weave sunlit tales in waters deep and dark,  \\nTime whispers through waves, cradling myths the earth forgot.', 'type': 'TextMessage'}], 'current_turn': 0, 'next_speaker_index': 0}}}\n",
      "---------- TextMessage (user) ----------\n",
      "What was the last line of the poem you wrote?\n",
      "---------- ThoughtEvent (assistant_agent) ----------\n",
      "\n",
      "Okay, the user is asking for the last line of the poem I wrote about Lake Tanganyika. Let me check the previous response.\n",
      "\n",
      "The poem was three lines. The first line describes the lake as a sapphire scar, the second mentions cichlids and the environment, and the third line talks about time whispering through waves and myths. \n",
      "\n",
      "The user wants the last line. I need to make sure I didn't make any mistake in recalling. The last line is \"Time whispers through waves, cradling myths the earth forgot.\" \n",
      "\n",
      "Wait, maybe they need confirmation. Let me recheck. Yes, the third line is the last one. The user might be remembering the poem or using it for something, like a school project or a presentation. They could be verifying the content or looking for inspiration. \n",
      "\n",
      "I should respond directly with the last line and offer to help further if needed. Maybe add a friendly note to see if they need anything else. Be concise but helpful.\n",
      "\n",
      "---------- TextMessage (assistant_agent) ----------\n",
      "\n",
      "\n",
      "The last line of the poem was:  \n",
      "**\"Time whispers through waves, cradling myths the earth forgot.\"**  \n",
      "\n",
      "Let me know if you'd like to expand or refine it! 🌊✨\n"
     ]
    },
    {
     "data": {
      "text/plain": [
       "TaskResult(messages=[TextMessage(source='user', models_usage=None, metadata={}, content='What was the last line of the poem you wrote?', type='TextMessage'), ThoughtEvent(source='assistant_agent', models_usage=None, metadata={}, content='\\nOkay, the user is asking for the last line of the poem I wrote about Lake Tanganyika. Let me check the previous response.\\n\\nThe poem was three lines. The first line describes the lake as a sapphire scar, the second mentions cichlids and the environment, and the third line talks about time whispering through waves and myths. \\n\\nThe user wants the last line. I need to make sure I didn\\'t make any mistake in recalling. The last line is \"Time whispers through waves, cradling myths the earth forgot.\" \\n\\nWait, maybe they need confirmation. Let me recheck. Yes, the third line is the last one. The user might be remembering the poem or using it for something, like a school project or a presentation. They could be verifying the content or looking for inspiration. \\n\\nI should respond directly with the last line and offer to help further if needed. Maybe add a friendly note to see if they need anything else. Be concise but helpful.\\n', type='ThoughtEvent'), TextMessage(source='assistant_agent', models_usage=RequestUsage(prompt_tokens=95, completion_tokens=246), metadata={}, content='\\n\\nThe last line of the poem was:  \\n**\"Time whispers through waves, cradling myths the earth forgot.\"**  \\n\\nLet me know if you\\'d like to expand or refine it! 🌊✨', type='TextMessage')], stop_reason='Maximum number of messages 2 reached, current message count: 2')"
      ]
     },
     "execution_count": 9,
     "metadata": {},
     "output_type": "execute_result"
    }
   ],
   "source": [
    "print(team_state)  # 打印团队当前保存的状态（可序列化为 JSON，便于持久化存储）\n",
    "\n",
    "# 加载团队状态，实现断点续聊或会话恢复\n",
    "await agent_team.load_state(team_state)\n",
    "\n",
    "# 重新运行团队任务，此时团队已恢复之前的对话历史和上下文\n",
    "stream = agent_team.run_stream(task=\"What was the last line of the poem you wrote?\")\n",
    "await Console(stream)"
   ]
  },
  {
   "cell_type": "markdown",
   "id": "218ea630",
   "metadata": {},
   "source": [
    "## Persisting State (File or Database)\n",
    "\n",
    "在许多情况下，我们可能希望将团队的状态持久化到磁盘（或数据库）中，并在之后加载回来。状态是一个可以序列化为文件或写入数据库的字典对象。\n",
    "\n",
    "我已编写了 `tea,_state.json` 存储在 `./resurces` "
   ]
  },
  {
   "cell_type": "code",
   "execution_count": 10,
   "id": "462f22bb",
   "metadata": {},
   "outputs": [
    {
     "name": "stdout",
     "output_type": "stream",
     "text": [
      "---------- TextMessage (user) ----------\n",
      "What was the last line of the poem you wrote?\n",
      "---------- ThoughtEvent (assistant_agent) ----------\n",
      "\n",
      "Okay, the user is asking for the last line of the poem I wrote about Lake Tanganyika. Let me check the history.\n",
      "\n",
      "In the previous message, I provided a three-line poem. The lines were:\n",
      "\n",
      "1. Lake Tanganyika, a sapphire scar across Africa’s heart,  \n",
      "2. Where cichlids weave sunlit tales in waters deep and dark,  \n",
      "3. Time whispers through waves, cradling myths the earth forgot.  \n",
      "\n",
      "So the last line is \"Time whispers through waves, cradling myths the earth forgot.\" The user might be confirming the poem's ending or using it for something else. They might want to reference it in another project or just appreciate the imagery. Since they asked specifically for the last line, I should make sure to present it clearly. Maybe they need it for a presentation, a quote, or to continue the poem. I should respond directly with the line and offer help if they need anything else. Let me make sure there's no mistake in the line and that I'm providing it correctly.\n",
      "\n",
      "---------- TextMessage (assistant_agent) ----------\n",
      "\n",
      "\n",
      "The last line of the poem is:  \n",
      "**\"Time whispers through waves, cradling myths the earth forgot.\"**  \n",
      "\n",
      "Let me know if you'd like to expand or refine it! 🌊\n"
     ]
    }
   ],
   "source": [
    "import json\n",
    "\n",
    "# 保存团队状态到磁盘（序列化为 JSON 文件）\n",
    "with open(\"resources/team_state.json\", \"w\", encoding=\"utf-8\") as f:\n",
    "    json.dump(team_state, f, ensure_ascii=False, indent=2)\n",
    "\n",
    "# 从磁盘加载团队状态（反序列化）\n",
    "with open(\"resources/team_state.json\", \"r\", encoding=\"utf-8\") as f:\n",
    "    team_state = json.load(f)\n",
    "\n",
    "# 重新创建团队对象（注意要用新的团队实例）\n",
    "new_agent_team = RoundRobinGroupChat([assistant_agent], termination_condition=MaxMessageTermination(max_messages=2))\n",
    "\n",
    "# 加载团队状态，实现断点续聊或会话恢复\n",
    "await new_agent_team.load_state(team_state)\n",
    "\n",
    "# 重新运行团队任务，此时团队已恢复之前的对话历史和上下文\n",
    "stream = new_agent_team.run_stream(task=\"What was the last line of the poem you wrote?\")\n",
    "await Console(stream)\n",
    "\n",
    "# 关闭模型客户端，释放资源\n",
    "await model_client.close()"
   ]
  },
  {
   "cell_type": "markdown",
   "id": "2063245e",
   "metadata": {},
   "source": [
    "## Reference\n",
    "\n",
    "1. https://microsoft.github.io/autogen/stable/user-guide/agentchat-user-guide/tutorial/state.html"
   ]
  }
 ],
 "metadata": {
  "kernelspec": {
   "display_name": "Python 3 (ipykernel)",
   "language": "python",
   "name": "python3"
  },
  "language_info": {
   "codemirror_mode": {
    "name": "ipython",
    "version": 3
   },
   "file_extension": ".py",
   "mimetype": "text/x-python",
   "name": "python",
   "nbconvert_exporter": "python",
   "pygments_lexer": "ipython3",
   "version": "3.11.11"
  }
 },
 "nbformat": 4,
 "nbformat_minor": 5
}
