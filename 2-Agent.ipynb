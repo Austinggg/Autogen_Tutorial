{
 "cells": [
  {
   "cell_type": "markdown",
   "id": "b21f10b4",
   "metadata": {},
   "source": [
    "# Agent \n",
    "\n",
    "本节将介绍 Autogen 的 Agent 部分，包含：\n",
    "\n",
    "- Autogen 的各种常用预设 Agent\n",
    "- 如何调用定义的 Agent 进行各种操作。\n",
    "- 如何使用 Autogen 定制自己的 Agent\n",
    "\n",
    "参考资料：https://microsoft.github.io/autogen/stable/user-guide/agentchat-user-guide/tutorial/agents.html"
   ]
  },
  {
   "cell_type": "markdown",
   "id": "1b6cd380",
   "metadata": {},
   "source": [
    "配置 LLM Api\n",
    "\n",
    "参考 `Client.ipynb`"
   ]
  },
  {
   "cell_type": "code",
   "execution_count": null,
   "id": "acb91ab4",
   "metadata": {},
   "outputs": [],
   "source": [
    "import os\n",
    "from dotenv import load_dotenv\n",
    "from autogen_ext.models.openai import OpenAIChatCompletionClient\n",
    "from autogen_agentchat.messages import TextMessage\n",
    "# load_dotenv()\n",
    "siliconflow_api_key = os.getenv(\"SILICONFLOW_API_KEY\") # 读取你的 OPENAI API key\n",
    "print(siliconflow_api_key)\n",
    "# 初始化 OpenAIChatCompletionClient 客户端，连接到硅基流动平台的 Qwen3-8B 模型\n",
    "model_client = OpenAIChatCompletionClient(\n",
    "    model=\"Qwen/Qwen3-8B\",                # 指定要调用的模型名称，硅基流动平台上 Qwen 3-8B 模型\n",
    "    base_url=\"https://api.siliconflow.cn/v1\",  # 硅基流动平台的 API 访问地址\n",
    "    api_key=siliconflow_api_key,  # 你的 API 密钥\n",
    "    model_info={                        \n",
    "        \"family\": \"qwen\",              \n",
    "        \"context_length\": 8192,        \n",
    "        \"max_output_tokens\": 2048,     \n",
    "        \"tool_choice_supported\": True, \n",
    "        \"tool_choice_required\": False,  \n",
    "        \"structured_output\": True,     \n",
    "        \"vision\": False,                \n",
    "        \"function_calling\": True,      \n",
    "        \"json_output\": True ,         \n",
    "        \"stream\" : True\n",
    "    },\n",
    ")"
   ]
  },
  {
   "cell_type": "markdown",
   "id": "b39e4593",
   "metadata": {},
   "source": [
    "## Agent 介绍\n",
    "\n",
    "`AutoGen` 的 `AgentChat` 类 提供了一组预设 **Agent** ，用于不同类型的对话任务。每个 Agent 都实现了独立的消息生成逻辑或行为模式，支持灵活构建复杂的多智能体协作系统。以下列举了所有 Agent 共享的部分常用属性与方法：\n",
    "\n",
    "**共有属性：**\n",
    "\n",
    "- `name`: Agent 的唯一标识符，用于区分不同 Agent 实例。（必选）\n",
    "\n",
    "- `description`: 对该 Agent 的简要描述，用于解释用途或角色。（可选）\n",
    "\n",
    "- `system_message`: 初始化时发送给模型的系统提示词，影响 Agent 回复风格、角色设定等。（可选）\n",
    "\n",
    "- `llm_config`: 底层大模型配置（可选）\n",
    "\n",
    "**共有方法**\n",
    "\n",
    "- `run`: 处理新任务或消息 → 返回完整结果 `TaskResult`。**仅处理新输入，不负责维护对话历史。**\n",
    "\n",
    "  其中run方法需要传入的参数：\n",
    "\n",
    "| 参数名          | 类型       | 必选 | 默认值       | 作用                                                                 |\n",
    "|-----------------|------------|------|--------------|----------------------------------------------------------------------|\n",
    "| `task`          | `str`      | 是   | -            | 需要 Agent 执行的任务描述（如 `\"计算 1+1\"`）。                       |\n",
    "| `clear_history` | `bool`     | 否   | `False`      | 是否在执行前清空对话历史（避免上下文干扰）。                         |\n",
    "| `function_call` | `dict`/`str` | 否  | `None`       | 指定要调用的工具函数（如 `{\"name\": \"calculator\", \"parameters\": {\"a\": 1, \"b\": 1}}`）。 |\n",
    "| `**kwargs`      | 可变参数   | 否   | -            | 其他传递给 LLM 的参数（如 `temperature`、`max_tokens` 等）。         |\n",
    " \n",
    "\n",
    "- `run_stream`: 是 `run()` 的增强版本，流式处理任务 → 边生成边返回消息流，最后返回 `TaskResult`。适合实时输出场景。\n",
    "\n",
    "  其中run_stream方法需要传入的参数：\n",
    "\n",
    "| 参数名          | 类型       | 必选 | 默认值       | 作用                                                                 |\n",
    "|-----------------|------------|------|--------------|----------------------------------------------------------------------|\n",
    "| `task`          | `str`      | 是   | -            | 需要 Agent 执行的任务描述（如 \"解释机器学习\"）。                     |\n",
    "| `clear_history` | `bool`     | 否   | `False`      | 是否在执行前清空对话历史（避免上下文干扰）。                         |\n",
    "| `function_call` | `dict`/`str` | 否  | `None`       | 指定要调用的工具函数（格式同 `run`）。                               |\n",
    "| `stream`        | `bool`     | 否   | `True`       | 是否启用流式输出（若为 `False`，则等同于 `run`）。                   |\n",
    "| `**kwargs`      | 可变参数   | 否   | -            | 其他传递给 LLM 的参数（如 `temperature`、`max_tokens` 等）。         |\n",
    "\n",
    "> 上面两者的区别：\n",
    "> - `run()`：一次性返回完整 `TaskResult` 。\n",
    "> - `run_stream()`：边生成边返回消息流，最后再返回 `TaskResult` 。\n",
    "\n",
    "其中 TaskResult 返回的内容包括：Client使用过mseeages信息，这存储了智能体的思考过程和最终的回复，接下来我将在下面的例子中简要分析智能体的返回内容是如何反映其思考过程的。\n",
    "\n",
    "在下面的例子中会详细介绍具体的使用方法。\n"
   ]
  },
  {
   "cell_type": "markdown",
   "id": "db5ed90d",
   "metadata": {},
   "source": [
    "## Autogen 的预设 Agent\n",
    "\n",
    "将按照下面的顺序进行讲解：\n",
    "\n",
    "- AssistantAgent\n",
    "- UserProxyAgent\n",
    "- MessageFilterAgent\n",
    "- SocietyOfMindAgent\n",
    "- RetrievalAgent"
   ]
  },
  {
   "cell_type": "markdown",
   "id": "e33d7b57",
   "metadata": {},
   "source": [
    "### Assistant Agent\n",
    "\n",
    "**AssistantAgent** 是 AutoGen 框架中最基础、最常用的智能体（Agent）类型。它的核心作用是作为“助手”与用户或其他 Agent 进行对话，理解任务、生成回复，并可根据需要调用外部工具（如函数、API）来辅助完成复杂任务。继承自 `ConversableAgent`\n",
    "\n",
    "\n",
    "**主要功能**\n",
    "\n",
    "- **自然语言对话**：能够理解用户输入并生成自然语言回复。\n",
    "- **工具调用**：可集成外部函数、API，实现联网搜索、计算、数据处理等扩展能力。\n",
    "- **系统提示（System Message）**：支持自定义智能体的角色和行为风格。\n",
    "- **多轮对话**：支持上下文记忆，能够进行多轮连续对话。\n",
    "- **与其他 Agent 协作**：可作为多智能体系统中的一员，与其他 Agent 协同工作。\n",
    "\n",
    "\n",
    "**参数说明**\n",
    "\n",
    "| 参数名           | 说明                                                         |\n",
    "|------------------|--------------------------------------------------------------|\n",
    "| `name`           | Agent 名称，便于区分多个 Agent                               |\n",
    "| `model_client`   | 绑定的 LLM 客户端（如 OpenAI、OpenRouter 等）                |\n",
    "| `tools`          | 可选，外部工具列表（如函数、API），用于扩展 Agent 能力        |\n",
    "| `system_message` | 可选，系统提示词，定义 Agent 的角色、风格、行为等  |\n",
    "\n"
   ]
  },
  {
   "cell_type": "code",
   "execution_count": 2,
   "id": "2be2eb9d",
   "metadata": {},
   "outputs": [],
   "source": [
    "from autogen_agentchat.agents import AssistantAgent\n",
    "\n",
    "# 示例：不带工具，仅对话\n",
    "agent = AssistantAgent(\n",
    "    name=\"assistant\",\n",
    "    model_client=model_client,\n",
    "    system_message=\"你是一个乐于助人的中文助手。\"\n",
    ")"
   ]
  },
  {
   "cell_type": "code",
   "execution_count": 20,
   "id": "68360103-8149-449e-8991-1725e4b8d198",
   "metadata": {},
   "outputs": [
    {
     "name": "stdout",
     "output_type": "stream",
     "text": [
      "[TextMessage(source='user', models_usage=None, metadata={}, content='请介绍一下AutoGen框架。', type='TextMessage'), ThoughtEvent(source='assistant', models_usage=None, metadata={}, content='\\n好的，用户再次要求介绍AutoGen框架。之前已经两次详细回答了，可能用户还在深入学习，或者需要更简洁的信息？第一次回答比较全面，涵盖了核心功能、应用场景、与其他框架的对比等。第二次可能调整了一些结构，比如表格对比。现在用户第三次提问，可能是希望得到更精炼的版本，或者之前的信息没有完全满足需求。\\n\\n需要确认用户的具体需求。也许他们需要一个更简短的总结，或者想了解最新版本的特性？根据历史记录，用户可能在做项目比较或者学习资料收集，所以需要确保回答包括关键点，避免重复。同时，用户可能对框架的具体应用或技术细节有疑问，比如如何与现有系统集成，或者部署方式。\\n\\n另外，注意到用户之前两次回答都用了中文，可能他们需要的是中文内容，但可能希望更结构化的信息。所以这次的回答可以保持中文，但分点更清晰，使用标题和子标题，便于阅读。还要检查是否有遗漏的重要信息，比如框架的支持情况、社区活跃度、未来发展方向等。\\n\\n确保回答准确，特别是与类似框架的对比部分，需要明确指出AutoGen和Auto-GPT、LangChain的区别。同时，用户可能对实际应用场景感兴趣，因此补充一些实际例子会有帮助。另外，可能需要注意术语的正确性，比如“代码协作能力”是否准确，或者是否需要更专业的术语。\\n\\n最后，保持回答的连贯性和逻辑性，确保每个部分简明扼要，不冗长。可能用户需要快速了解框架，所以使用分点方式，加上总结和推荐资源。同时，避免技术术语过多，保持易懂。\\n', type='ThoughtEvent'), TextMessage(source='assistant', models_usage=RequestUsage(prompt_tokens=2285, completion_tokens=1511), metadata={}, content='\\n\\nAutoGen 是由 **微软研究院** 开发的开源框架，用于构建**自主代理（Autonomous Agents）**系统，核心目标是实现多个 AI 代理之间的**协作、对话与任务分配**。它通过结合大型语言模型（LLM）、强化学习（RL）和工具调用的能力，支持开发者创建灵活、高效的多智能体交互系统。\\n\\n---\\n\\n### **核心特点**\\n1. **多代理协作对话**  \\n   - 支持基于**对话轮次**（Dialogue Turn）的多智能体交互，代理可自主发起任务、交换信息并协同完成复杂目标。\\n   - 例如：一个代理负责收集数据，另一个进行分析，第三个生成报告，形成类似人类团队的工作流程。\\n\\n2. **模块化代理设计**  \\n   - 提供多种预定义代理类型（如 `UserProxyAgent`、`AssistantAgent`、`ReasoningAgent`），用户可灵活组合角色以适应不同场景。\\n   - **UserProxyAgent**：模拟用户与代理的交互，支持多智能体协作。\\n   - **AssistantAgent**：基于 LLM 的执行剂，可调用 API 或工具处理任务。\\n   - **ReasoningAgent**：用于逻辑推理、计划制定，支持复杂决策。\\n\\n3. **代码执行与工具集成**  \\n   - 内置代码执行器（如 `code_executor`），允许代理运行生成的代码并获取结果。\\n   - 支持调用外部工具（如 Web 爬虫、数据库查询）以增强任务处理能力。\\n\\n4. **强化学习支持**  \\n   - 集成 RL 策略（如 `RLAgent`）用于优化代理行为，适用于模拟环境中的训练任务。\\n\\n5. **可扩展性与灵活性**  \\n   - 支持自定义代理功能，可与其他 AI 框架（如 LangChain）整合。\\n   - 提供 API 和 SDK，便于部署和扩展。\\n\\n---\\n\\n### **典型应用场景**\\n- **企业自动化**：多代理协作处理文档、数据分析、决策支持（如财务报告生成、客户支持流程）。\\n- **科研与探索**：分解复杂任务（如科学论文写作、实验设计）到多个代理处理。\\n- **模拟训练**：在虚拟环境（如经济模型、策略游戏）中训练代理的协作与决策能力。\\n- **个性化助手**：构建多角色服务体系（如医疗咨询、金融分析、法律检索）。\\n\\n---\\n\\n### **与其他框架的对比**\\n| **对比点**         | **AutoGen**                          | **LangChain**                      | **Auto-GPT**                      |\\n|--------------------|--------------------------------------|------------------------------------|------------------------------------|\\n| **核心目标**       | 多智能体协作、任务分配                | 单智能体流程构建、链式调用          | 单智能体自主执行任务              |\\n| **是否开源**       | 是（GitHub 开源）                     | 是（GitHub 开源）                   | 是（GitHub 开源）                   |\\n| **强化学习支持**   | 支持（内置 RLAgent）                   | 需依赖外部库（如 Stable Baselines）| 无强化学习能力                     |\\n| **代码执行能力**   | 强（内置代码执行器）                   | 基础支持（需外部工具）              | 依赖用户脚本                       |\\n| **适用场景**       | 复杂协作任务（如对话系统）             | 单智能体应用（如问答、文本生成）     | 单智能体任务（如自动回答）          |\\n\\n---\\n\\n### **核心价值**\\n- **突破单一模型的局限**：通过多代理协作，提升任务处理的智能化与效率。\\n- **灵活的任务分解**：精准分配任务（如分析、生成、执行），避免单点错误。\\n- **可扩展性**：支持自定义代理行为和集成外部工具，适合多样化的业务需求。\\n\\n---\\n\\n### **使用示例**\\n```python\\nfrom autogen import UserProxyAgent, AssistantAgent\\n\\n# 初始化代理\\nuser_proxy = UserProxyAgent(\"user_proxy\", human_input=False)\\nassistant = AssistantAgent(\"assistant\", llm_config={\"model\": \"gpt-4\"})\\n\\n# 启动协作对话\\nuser_proxy.initiate_chat(assistant, message=\"Analyze the market trends for renewable energy.\")\\n```\\n\\n**执行流程**：\\n1. `UserProxyAgent` 将任务传递给 `AssistantAgent`。\\n2. `AssistantAgent` 调用代码或 API 获取数据。\\n3. 基于结果，代理可能进一步协作（如分发任务给其他智能体）。\\n\\n---\\n\\n### **注意事项**\\n- **依赖 LLM 模型**：支持 Azure OpenAI（如 GPT-3.5、GPT-4）或本地模型（如 LLaMA、Phi-3）。\\n- **需要训练与优化**：部分功能（如强化学习）需额外训练或配置。\\n- **与 Auto-GPT 的区别**：AutoGen 强调多代理协作，而 Auto-GPT 聚焦于单代理的独立执行能力。\\n\\n---\\n\\n### **总结**\\nAutoGen 是一个专为多智能体协作设计的框架，通过对话、代码执行与强化学习的结合，实现复杂任务的自动化与智能化。其模块化结构和灵活扩展性，使其成为构建 AI 代理系统的首选工具之一。  \\n如需进一步了解，可访问官方文档：[https://microsoft.github.io/autogen/](https://microsoft.github.io/autogen/)', type='TextMessage')]\n"
     ]
    }
   ],
   "source": [
    "result = await agent.run(task=\"请介绍一下AutoGen框架。\")\n",
    "print(result.messages)  # 输出对话消息内容"
   ]
  },
  {
   "cell_type": "markdown",
   "id": "4d1052e0-f49f-459b-9a6f-44e756131192",
   "metadata": {},
   "source": [
    "上述未调用工具智能体返回的消息列表记录了 用户请求-智能体思考-智能体响应 的完整对话流程，体现了 AutoGen 框架中智能体的 自主决策能力 和 结构化内容生成能力。\n",
    "\n",
    "### 消息详情解析\n",
    "\n",
    "1. 用户请求（TextMessage）\n",
    "content = \"请介绍一下AutoGen框架。\"\n",
    "说明：用户明确要求智能体介绍 AutoGen 框架，是交互的起点。\n",
    "\n",
    "2. 智能体思考过程（ThoughtEvent）\n",
    "分析历史交互：\n",
    "首次调用web_search工具返回的结果过于简略（仅 \"AutoGen 是一个多智能体协作框架\"）。\n",
    "用户再次提问，推测需要更全面的解释（功能、应用场景、技术特点等）...\n",
    "\n",
    "3. 智能体响应（TextMessage）\n",
    "结构化内容：\n",
    "AutoGen 是由微软研究院开发的多智能体协作框架...\n",
    "\n",
    "\n",
    "\n",
    "---"
   ]
  },
  {
   "cell_type": "code",
   "execution_count": 21,
   "id": "13601447-5849-49e9-902c-9937c8e88b11",
   "metadata": {},
   "outputs": [],
   "source": [
    "# 示例：带工具，具备联网搜索能力\n",
    "from autogen_agentchat.agents import AssistantAgent\n",
    "\n",
    "#注意定义工具函数的时候常常使用异步函数\n",
    "async def web_search(query: str) -> str:\n",
    "    return \"AutoGen 是一个多智能体协作框架。\"\n",
    "\n",
    "agent_with_tool = AssistantAgent(\n",
    "    name=\"assistant\",\n",
    "    model_client=model_client,\n",
    "    tools=[web_search],\n",
    "    system_message=\"要求对于用户询问的所有问题必须使用工具来解决问题\"\n",
    ")"
   ]
  },
  {
   "cell_type": "code",
   "execution_count": 22,
   "id": "6db2362b",
   "metadata": {},
   "outputs": [
    {
     "name": "stdout",
     "output_type": "stream",
     "text": [
      "messages=[TextMessage(source='user', models_usage=None, metadata={}, content='请介绍一下AutoGen框架。', type='TextMessage'), ThoughtEvent(source='assistant', models_usage=None, metadata={}, content='\\n\\n', type='ThoughtEvent'), ToolCallRequestEvent(source='assistant', models_usage=RequestUsage(prompt_tokens=179, completion_tokens=446), metadata={}, content=[FunctionCall(id='0197bae8e78c23d46afe2ec81f204907', arguments=' {\"query\": \"AutoGen框架介绍\"}', name='web_search')], type='ToolCallRequestEvent'), ToolCallExecutionEvent(source='assistant', models_usage=None, metadata={}, content=[FunctionExecutionResult(content='AutoGen 是一个多智能体协作框架。', name='web_search', call_id='0197bae8e78c23d46afe2ec81f204907', is_error=False)], type='ToolCallExecutionEvent'), ToolCallSummaryMessage(source='assistant', models_usage=None, metadata={}, content='AutoGen 是一个多智能体协作框架。', type='ToolCallSummaryMessage')] stop_reason=None\n"
     ]
    }
   ],
   "source": [
    "result = await agent_with_tool.run(task=\"请介绍一下AutoGen框架。\")\n",
    "print(result) #我们看一下智能体返回的内容都有什么"
   ]
  },
  {
   "cell_type": "markdown",
   "id": "f4e3ba75-bc1c-411a-8ab7-8d68ec0184ad",
   "metadata": {},
   "source": [
    "上述消息列表展示了使用 AutoGen 框架实现的智能体调用外部工具的完整流程。\n",
    "### 消息列表详情\n",
    "1. #### 用户请求：\n",
    "TextMessage(\n",
    "    source='user', \n",
    "    content='请介绍一下AutoGen框架。'\n",
    ")\n",
    "\n",
    "用户发起了对 AutoGen 框架的介绍请求。\n",
    "\n",
    "2. #### 智能体思考：\n",
    "ThoughtEvent(\n",
    "    source='assistant', \n",
    "    content='\\n\\n'\n",
    ")\n",
    "\n",
    "这里的思考内容为空，但在实际场景中，智能体可能会规划如何处理这个请求。\n",
    "\n",
    "3. #### 工具调用请求：\n",
    "ToolCallRequestEvent(\n",
    "    source='assistant',\n",
    "    content=[FunctionCall(\n",
    "        name='web_search',\n",
    "        arguments=' {\"query\": \"AutoGen框架介绍\"}'\n",
    "    )]\n",
    ")\n",
    "\n",
    "智能体决定调用web_search工具来获取关于 AutoGen 框架的信息，参数为查询关键词。\n",
    "\n",
    "4. #### 工具执行结果：\n",
    "ToolCallExecutionEvent(\n",
    "    source='assistant',\n",
    "    content=[FunctionExecutionResult(\n",
    "        content='AutoGen 是一个多智能体协作框架。',\n",
    "        name='web_search',\n",
    "        call_id='0197bae8e78c23d46afe2ec81f204907'\n",
    "    )]\n",
    ")\n",
    "\n",
    "web_search工具返回执行结果，提供了关于 AutoGen 框架的基本定义。\n",
    "\n",
    "5. #### 结果摘要：\n",
    "ToolCallSummaryMessage(\n",
    "    source='assistant',\n",
    "    content='AutoGen 是一个多智能体协作框架。'\n",
    ")\n",
    "\n",
    "智能体将工具返回的内容整理为摘要，这可能会作为最终回复的一部分。\n",
    "\n",
    "---"
   ]
  },
  {
   "cell_type": "markdown",
   "id": "43611fde",
   "metadata": {},
   "source": [
    "### UserProxyAgent\n",
    "\n",
    "**UserProxyAgent** 是 AutoGen 框架中用于模拟“用户”角色的智能体。它的主要作用是作为人类用户的代理，参与多智能体协作流程，驱动对话和任务的发起。  在多智能体系统中，UserProxyAgent 通常作为“入口”，负责输入任务、问题或指令，并与其他 Agent 互动。\n",
    "\n",
    "> 简单来说，这个 Agent 就是来充当 Agent Workflow 中的 用户，模拟人类输出对话。\n",
    "\n",
    "\n",
    "**主要功能**\n",
    "\n",
    "\n",
    "- **模拟用户输入**：可以自动或手动输入消息，驱动对话流程。\n",
    "- **流程控制**：可配置为自动继续、等待人工输入或终止对话。\n",
    "- **与其他 Agent 协作**：作为多智能体协作中的“人类代理”，与助手、审查等 Agent 互动。\n",
    "\n",
    "\n",
    "**应用场景**\n",
    "\n",
    "- 多智能体协作流程的“用户入口”\n",
    "- 自动化测试（模拟用户行为）\n",
    "- 需要人工参与的多轮对话系统\n",
    "\n",
    "\n",
    "| 参数名         | 说明                                                                                   |\n",
    "|----------------|----------------------------------------------------------------------------------------|\n",
    "| `name`         | Agent 名称，便于区分多个 Agent                                                         |\n",
    "| `description`  | 可选，描述信息，默认为 `'A human user'`                                                |\n",
    "| `input_func`   | 可选，自定义输入函数。可以是同步或异步函数，实现自动输入或自定义输入逻辑                 |\n",
    "\n",
    "\n",
    "**注意事项**\n",
    "\n",
    "- `human_input_mode` 决定了是否需要人工输入，适合不同的自动化或交互需求。\n",
    "- 通常与 AssistantAgent、CriticAgent 等其他 Agent 配合使用。\n",
    "\n",
    "参考：https://microsoft.github.io/autogen/dev/reference/python/autogen_agentchat.agents.html#autogen_agentchat.agents.UserProxyAgent\n"
   ]
  },
  {
   "cell_type": "code",
   "execution_count": 5,
   "id": "16fe801e",
   "metadata": {},
   "outputs": [],
   "source": [
    "# （1）默认用法（人工输入）\n",
    "from autogen_agentchat.agents import UserProxyAgent\n",
    "\n",
    "user_agent = UserProxyAgent(\n",
    "    name=\"user\",\n",
    "    description=\"你是一个用户。\"\n",
    ")"
   ]
  },
  {
   "cell_type": "code",
   "execution_count": 6,
   "id": "cf99722b",
   "metadata": {},
   "outputs": [],
   "source": [
    "# （2）自动输入（模拟用户，无需人工参与）\n",
    "\n",
    "from autogen_agentchat.agents import UserProxyAgent\n",
    "\n",
    "def my_input(prompt):\n",
    "    return \"这是自动输入的内容\"\n",
    "\n",
    "user_agent = UserProxyAgent(\n",
    "    name=\"user\",\n",
    "    input_func=my_input\n",
    ")\n",
    "# 运行时会自动返回内容，无需人工输入"
   ]
  },
  {
   "cell_type": "code",
   "execution_count": 7,
   "id": "853d8e09",
   "metadata": {},
   "outputs": [],
   "source": [
    "# （3）异步自动输入\n",
    "import asyncio\n",
    "from autogen_agentchat.agents import UserProxyAgent\n",
    "\n",
    "async def my_async_input(prompt, cancellation_token=None):\n",
    "    await asyncio.sleep(1)\n",
    "    return \"异步输入内容\"\n",
    "\n",
    "user_agent = UserProxyAgent(\n",
    "    name=\"user\",\n",
    "    input_func=my_async_input\n",
    ")"
   ]
  },
  {
   "cell_type": "markdown",
   "id": "e3d814e3-1974-4bfd-a856-69de330af1b7",
   "metadata": {},
   "source": [
    "### MessageFilterAgent\n",
    "注意：请升级库版本到0.6.2以使用该库，官方文档中写道：\"这是一项实验性功能，API 将在未来版本中进行修改。\"\n",
    "\n",
    "封装代理，用于在将传入信息传递给内部代理之前对其进行过滤。\n",
    "\n",
    "    这在多代理工作流等场景中非常有用，在这些场景中，代理只需\n",
    "    处理完整消息历史记录的子集--例如，只处理来自每个上游代理的最后一条消息，或只处理来自每个上游代理的最后一条消息。\n",
    "    例如，只处理来自每个上游代理的最后一条消息，或只处理来自特定来源的第一条消息。\n",
    "\n",
    "    过滤是通过 :class:`MessageFilterConfig` 配置的，它支持\n",
    "    - 按消息源过滤（例如，只过滤来自 \"用户 \"或其他代理的消息）\n",
    "    - 从每个消息源中选择前 N 条或后 N 条消息\n",
    "    - 如果位置为 \"无\"，则包括来自该来源的所有信息\n",
    "\n",
    "该代理与直接信息传递和基于团队的执行都兼容\n",
    "例如 :class:`~autogen_agentchat.teams.GraphFlow`."
   ]
  },
  {
   "cell_type": "markdown",
   "id": "5c36de00-0882-4e1f-80f9-fd20e7b09f76",
   "metadata": {},
   "source": [
    "在下面我们举的例子中，您希望\n",
    "- A 只能看到用户信息和来自 B 的最后一条信息\n",
    "- B 查看用户信息、来自 A 的最后一条信息以及自己之前的回复（用于反思）\n",
    "- C 查看用户信息和来自 B 的最后一条信息\n",
    "\n",
    "下面我们将给出参考代码说明如何利用MessageFilterAgent实现上述要求"
   ]
  },
  {
   "cell_type": "code",
   "execution_count": 2,
   "id": "526a14aa-e928-48d1-9b3a-eb561c8ac093",
   "metadata": {},
   "outputs": [
    {
     "ename": "NameError",
     "evalue": "name 'agent_a_inner' is not defined",
     "output_type": "error",
     "traceback": [
      "\u001b[31m---------------------------------------------------------------------------\u001b[39m",
      "\u001b[31mNameError\u001b[39m                                 Traceback (most recent call last)",
      "\u001b[36mCell\u001b[39m\u001b[36m \u001b[39m\u001b[32mIn[2]\u001b[39m\u001b[32m, line 8\u001b[39m\n\u001b[32m      3\u001b[39m \u001b[38;5;28;01mfrom\u001b[39;00m\u001b[38;5;250m \u001b[39m\u001b[34;01mautogen_agentchat\u001b[39;00m\u001b[34;01m.\u001b[39;00m\u001b[34;01magents\u001b[39;00m\u001b[38;5;250m \u001b[39m\u001b[38;5;28;01mimport\u001b[39;00m  MessageFilterAgent\n\u001b[32m      5\u001b[39m \u001b[38;5;66;03m# 配置消息过滤代理\u001b[39;00m\n\u001b[32m      6\u001b[39m agent_a = MessageFilterAgent(\n\u001b[32m      7\u001b[39m     name=\u001b[33m\"\u001b[39m\u001b[33mA\u001b[39m\u001b[33m\"\u001b[39m,\n\u001b[32m----> \u001b[39m\u001b[32m8\u001b[39m     wrapped_agent=agent_a_inner,\n\u001b[32m      9\u001b[39m     \u001b[38;5;28mfilter\u001b[39m=MessageFilterConfig(\n\u001b[32m     10\u001b[39m         per_source=[\n\u001b[32m     11\u001b[39m             PerSourceFilter(source=\u001b[33m\"\u001b[39m\u001b[33muser\u001b[39m\u001b[33m\"\u001b[39m, position=\u001b[33m\"\u001b[39m\u001b[33mfirst\u001b[39m\u001b[33m\"\u001b[39m, count=\u001b[32m1\u001b[39m),\n\u001b[32m     12\u001b[39m             PerSourceFilter(source=\u001b[33m\"\u001b[39m\u001b[33mB\u001b[39m\u001b[33m\"\u001b[39m, position=\u001b[33m\"\u001b[39m\u001b[33mlast\u001b[39m\u001b[33m\"\u001b[39m, count=\u001b[32m1\u001b[39m),\n\u001b[32m     13\u001b[39m         ]\n\u001b[32m     14\u001b[39m     ),\n\u001b[32m     15\u001b[39m )\n\u001b[32m     17\u001b[39m agent_b = MessageFilterAgent(\n\u001b[32m     18\u001b[39m     name=\u001b[33m\"\u001b[39m\u001b[33mB\u001b[39m\u001b[33m\"\u001b[39m,\n\u001b[32m     19\u001b[39m     wrapped_agent=agent_b_inner,\n\u001b[32m   (...)\u001b[39m\u001b[32m     26\u001b[39m     ),\n\u001b[32m     27\u001b[39m )\n\u001b[32m     29\u001b[39m agent_c = MessageFilterAgent(\n\u001b[32m     30\u001b[39m     name=\u001b[33m\"\u001b[39m\u001b[33mC\u001b[39m\u001b[33m\"\u001b[39m,\n\u001b[32m     31\u001b[39m     wrapped_agent=agent_c_inner,\n\u001b[32m   (...)\u001b[39m\u001b[32m     37\u001b[39m     ),\n\u001b[32m     38\u001b[39m )\n",
      "\u001b[31mNameError\u001b[39m: name 'agent_a_inner' is not defined"
     ]
    }
   ],
   "source": [
    "import asyncio\n",
    "from autogen_ext.models.openai import OpenAIChatCompletionClient\n",
    "from autogen_agentchat.agents import  MessageFilterAgent\n",
    "\n",
    "# 配置消息过滤代理\n",
    "agent_a = MessageFilterAgent(\n",
    "    name=\"A\",\n",
    "    wrapped_agent=agent_a_inner,\n",
    "    filter=MessageFilterConfig(\n",
    "        per_source=[\n",
    "            PerSourceFilter(source=\"user\", position=\"first\", count=1),\n",
    "            PerSourceFilter(source=\"B\", position=\"last\", count=1),\n",
    "        ]\n",
    "    ),\n",
    ")\n",
    "\n",
    "agent_b = MessageFilterAgent(\n",
    "    name=\"B\",\n",
    "    wrapped_agent=agent_b_inner,\n",
    "    filter=MessageFilterConfig(\n",
    "        per_source=[\n",
    "            PerSourceFilter(source=\"user\", position=\"first\", count=1),\n",
    "            PerSourceFilter(source=\"A\", position=\"last\", count=1),\n",
    "            PerSourceFilter(source=\"B\", position=\"last\", count=10),\n",
    "        ]\n",
    "    ),\n",
    ")\n",
    "\n",
    "agent_c = MessageFilterAgent(\n",
    "    name=\"C\",\n",
    "    wrapped_agent=agent_c_inner,\n",
    "    filter=MessageFilterConfig(\n",
    "        per_source=[\n",
    "            PerSourceFilter(source=\"user\", position=\"first\", count=1),\n",
    "            PerSourceFilter(source=\"B\", position=\"last\", count=1),\n",
    "        ]\n",
    "    ),\n",
    ")\n",
    "\n",
    "# 定义多智能体交互图\n",
    "graph = DiGraph(\n",
    "    nodes={\n",
    "        \"A\": DiGraphNode(name=\"A\", edges=[DiGraphEdge(target=\"B\")]),\n",
    "        \"B\": DiGraphNode(\n",
    "            name=\"B\",\n",
    "            edges=[\n",
    "                DiGraphEdge(target=\"C\", condition=\"exit\"),\n",
    "                DiGraphEdge(target=\"A\", condition=\"loop\"),\n",
    "            ],\n",
    "        ),\n",
    "        \"C\": DiGraphNode(name=\"C\", edges=[]),\n",
    "    },\n",
    "    default_start_node=\"A\",\n",
    ")"
   ]
  },
  {
   "cell_type": "code",
   "execution_count": null,
   "id": "3bc8e6ae-831f-44de-9288-ad5b63cc7fd9",
   "metadata": {},
   "outputs": [],
   "source": [
    "通过以上的处理后，我们确保每个代理只看到其决策或操作逻辑所需的内容。"
   ]
  },
  {
   "cell_type": "markdown",
   "id": "cece4b81-d6c1-4372-9365-8d91811aff63",
   "metadata": {},
   "source": [
    "### SocietyOfMindAgent \n",
    "\n",
    "`SocietyOfMindAgent` 是 Autogen 框架中一个具有独特设计的智能体类，其核心思想是通过 \"内部团队\" 的多个智能体协作来生成最终响应。即将解决复杂问题转换为通过多个简单组件的协作来解决。\n",
    "\n",
    "该类继承自 BaseChatAgent 和 Component[SocietyOfMindAgentConfig]，兼具智能体功能和组件配置管理能力。其核心特点是每次接收到消息时，会运行内部团队智能体进行协作，然后基于团队的交互结果生成最终响应。"
   ]
  },
  {
   "cell_type": "markdown",
   "id": "7750fb56-766b-47a6-96a8-fb16f0528cec",
   "metadata": {},
   "source": [
    "参数：\n",
    "\n",
    "name(str) -智能体的名称。\n",
    "\n",
    "team(Team)-要使用的智能体Team。\n",
    "\n",
    "model_client(ChatCompletionClient)-用于准备响应的client。\n",
    "\n",
    "description(str,optional)-智能体的描述。\n",
    "\n",
    "instruction(str,optional)-使用内部团队的消息生成响应时使用的指令。 默认的，该智能体承担了“系统”的角色。\n",
    "\n",
    "response_prompt(str,optional)-使用内部团队的消息生成响应时使用的响应提示符。 默认为。它承担了“系统”的角色。\n",
    "\n",
    "model_context(ChatCompletionContext | none,optional)-用于存储和检索的模型上下文。它可以预先加载初始消息。当代理被重置时，初始消息将被清除。"
   ]
  },
  {
   "cell_type": "markdown",
   "id": "789a289c-293e-4cef-aee3-1a7195162a0c",
   "metadata": {},
   "source": [
    "我们简单举一个例子"
   ]
  },
  {
   "cell_type": "code",
   "execution_count": 3,
   "id": "70ff6bcd-5244-493b-828e-ad580dce6974",
   "metadata": {},
   "outputs": [
    {
     "name": "stdout",
     "output_type": "stream",
     "text": [
      "---------- TextMessage (user) ----------\n",
      "Write a short story with a surprising ending.\n",
      "---------- ThoughtEvent (assistant1) ----------\n",
      "\n",
      "Okay, the user wants a short story with a surprising ending. Let me think about how to approach this. First, I need to create a narrative that builds up to an unexpected twist. The key is to make the ending both surprising and meaningful, so the surprise should tie into the story's themes or character development.\n",
      "\n",
      "Hmm, maybe start with a simple setup. A protagonist with a unique trait or situation. Let's say someone who has a strange ability. Maybe time travel? But that's common. Wait, what if it's something more personal? Like the ability to hear other people's thoughts. That could lead to interesting conflict.\n",
      "\n",
      "Wait, the user might want something more original. Let me brainstorm. How about a character who can see the future, but only in fragments? Or maybe something like a person who can't remember their past. Oh, but the surprise ending needs to be something that the reader doesn't see coming. Maybe the protagonist is actually the villain? Or the twist is that the entire story is a dream?\n",
      "\n",
      "Let me think of a scenario where the surprise is both emotional and logical. Perhaps the protagonist is searching for something, and in the end, it's revealed that they were the one who caused the problem. For example, someone who is trying to find a lost loved one, but the twist is that they were the one who lost them in the first place.\n",
      "\n",
      "Wait, the user might prefer a more fantastical element. Let's go with a magical realism approach. A woman who can hear the thoughts of objects. She's trying to solve a mystery, like a missing item, and the twist is that the object's thoughts reveal she's not human. Or maybe she's the one who's been keeping the secret.\n",
      "\n",
      "Alternatively, a more sci-fi twist. Maybe a scientist who creates a machine to save the world, but the twist is that the machine was already existed, and she's been living in a simulation. Or the machine is a fake, and the real threat is something else.\n",
      "\n",
      "Wait, maybe a slower build. Let's create a character with a unique ability, like the power to reverse time for a few seconds. She uses it to fix mistakes, but the twist is that she's been doing this for years, and the people around her have forgotten her. Or she's trapped in a time loop, but the twist is that she's the only one who remembers.\n",
      "\n",
      "Alternatively, a mystery story where the detective solves the case, but the twist is that the suspect is innocent, and the real culprit is someone else unexpected, like the detective themselves. Or maybe the victim is the one who caused their own death.\n",
      "\n",
      "Wait, perhaps a more emotional twist. A story about a parent and child, where the parent is trying to protect the child from something, but the twist is that the child is actually a threat. Or the parent is the one who's been manipulating events.\n",
      "\n",
      "Let me outline a possible story. Let's take a woman who is a librarian, and she has the ability to see the future in books. She's trying to prevent a disaster by reading the books, but the twist could be that she's the one who caused the disaster by altering the books. But how?\n",
      "\n",
      "Or maybe she's the only one who can see the future, but the twist is that the future she's seeing is her own death, and she's trying to prevent it but can't. Wait, that's a classic twist. Maybe not surprising enough.\n",
      "\n",
      "Alternatively, a story where the main character is trying to find a lost item, and the twist is that the item was never lost, but they've been looking for it in the wrong place. Or the item is a symbol of something else.\n",
      "\n",
      "Wait, let's think of a more unique angle. A man who is a ghost, and he's trying to find his way to the afterlife, but the twist is that he's actually alive, and the entire story is a misunderstanding. Hmm, that might be too straightforward.\n",
      "\n",
      "What if the story revolves around a person who believes they are the only one who can see the future, but the twist is that they are the only one who can't? Or maybe the future they see is not real, but their own memories.\n",
      "\n",
      "Wait, maybe a twist where the protagonist's actions are the reason for the events. For example, a woman who is cursed to relive the same day until she solves a mystery, and the twist is that she's the one who caused the curse by her own actions.\n",
      "\n",
      "Let me try this. Let's create a character named Clara who works in a library. She has the ability to see the future in the books she reads. She's been trying to prevent a disaster, perhaps a fire or an accident. But the twist is that she's been reading the wrong books, and the disaster is actually a result of her own actions. Wait, maybe not.\n",
      "\n",
      "Alternatively, the twist could be that the person she's trying to save is actually the one who needs to be saved from her. Like, she's trying to prevent her own death, but the person she's saving is the one who's going to kill her.\n",
      "\n",
      "Wait, let me think of a different structure. Maybe a story where the protagonist is trying to find a lost love, and the twist is that the love was never real, or that the love is actually someone else. Or the lost love is the protagonist's future self.\n",
      "\n",
      "Alternatively, a story with a twist where the protagonist is a character in someone else's story. Like, a librarian who finds a book about her own life, but the twist is that she's the author, and the story is a metaphor for her life.\n",
      "\n",
      "Wait, maybe a simpler approach. A man finds a mysterious key, opens a door, and the twist is that the door leads to his own past. Or the key is a metaphor for something else.\n",
      "\n",
      "Wait, maybe a story about a person who is told they have a unique talent, but the twist is that the talent is actually a curse, and the surprise is that the protagonist is the one who caused the curse.\n",
      "\n",
      "Let me try writing a story where the main character is a woman named Lila who can hear the thoughts of people when they touch her. She's a therapist, helping people with their issues. But the twist is that she's the one who's been listening to her own thoughts, and she's actually the patient. Or she's the one who's been causing the patients' problems by her own subconscious.\n",
      "\n",
      "Alternatively, the surprise ending could be that the protagonist is not human. Maybe she's a vampire or a werewolf, and the twist is revealed at the end. But that's a common trope.\n",
      "\n",
      "Hmm. Maybe something where the protagonist is trying to solve a mystery, and in the end, it's revealed that the mystery was a test. For example, a detective who is hired to solve a case, but the twist is that the client is the one who wants to see if the detective is truly capable, and the case was fabricated.\n",
      "\n",
      "Alternatively, a twist where the protagonist's actions are the cause of the problem. Like, a person who is trying to save the world by creating a machine, but the machine is actually a weapon that was created by someone else.\n",
      "\n",
      "Wait, maybe a more personal twist. A story where a person is trying to find their missing sibling, and the twist is that the sibling is not missing but has been living in another dimension, and the protagonist is the one who's been stuck there too.\n",
      "\n",
      "Alternatively, a story where the protagonist is told they have a terminal illness, but the twist is that the illness is a metaphor for something else, like a mental health issue, and the resolution is different.\n",
      "\n",
      "Wait, perhaps let's go with the idea of a librarian who can see the future in books. She's been trying to prevent a disaster, but the twist is that the books are not predicting the future but her memories. Maybe she's in a loop, or the books are her way of coping with her own past. Or the twist is that she's not a librarian but a time traveler who's been stuck in the library for some reason.\n",
      "\n",
      "Alternatively, the twist could be that the books are alive, and the only way to stop the disaster is to destroy them, but she can't because they're her memories. Wait, that's a bit abstract.\n",
      "\n",
      "Let me think of a more concrete example. Let's say the story is about a woman named Mara who works in a library and discovers a book that can predict the future. She uses it to avoid disasters, but one day she reads a book that says she'll die in a week. She tries to prevent it, but the twist is that the book is written by her future self, who's trying to warn her. Or the twist is that the book is a diary, and the future she's seeing is her own, but she's been living it backwards.\n",
      "\n",
      "Wait, perhaps that's too complex. Let me simplify. Mara finds a book that can show the future. She uses it to avoid dangers. But when she reads the book, she sees herself dying. She tries to prevent it, but the twist is that the book is a mirror, and the future she's seeing is actually her past. Or maybe she's the one who caused the accident.\n",
      "\n",
      "Wait, maybe the twist is that the books are not showing the future, but her memories. She's been reliving the same day over and over, and the book is a way of documenting her loops. But how to make that surprising?\n",
      "\n",
      "Alternatively, the twist is that the book is a simulation. She's in a loop, and the twist is that she's trapped in a simulation created by someone else, and the real world is different.\n",
      "\n",
      "Hmm. Maybe I need to outline the story first. Let's start with Clara, a librarian who can hear the thoughts of objects. She's been trying to solve a mystery about a missing book. The twist is that the missing book is her own childhood diary, and the thoughts she's hearing are from her younger self, revealing that she's not human. Or maybe the twist is that the objects are sentient, and they're trying to communicate with her.\n",
      "\n",
      "Alternatively, the twist could be that the objects' thoughts are actually from her. For example, she's been storing her own memories in objects, and the story ends with her realizing that she's been living in a state of amnesia, and the objects are her way of remembering.\n",
      "\n",
      "Wait, that might work. Let me try to structure it. Clara is a woman who can hear whispers from objects in the library. She's been trying to find a missing book that's been causing chaos. One day, she finds the book, and when she opens it, the whispers stop. But the twist is that the book was her own memories, and she's been living in a coma, and the library is a dream. The real ending is that she's not actually in the library, but in a hospital, and the book is a way for her to relive her past.\n",
      "\n",
      "Alternatively, the twist could be more subtle. Maybe the objects are not whispering, but the thoughts are from other people. She's been using this ability to help them, but the twist is that she's the one who's been causing their problems. For example, she's been unintentionally influencing others' decisions through the thoughts she hears, leading to a disaster that she's trying to prevent but can't because she's part of the cause.\n",
      "\n",
      "Okay, maybe I need to focus on a simple setup with a twist that's both emotional and logical. Let's go with a story where the protagonist is trying to find a lost love, and in the end, the love is actually someone else. Or maybe the love is a figment of her imagination.\n",
      "\n",
      "Wait, how about this: Clara is a woman who can hear the thoughts of objects. She's always been fascinated by the library, and she finds a book that's been causing strange effects. The book's title is \"The Last Page,\" and she opens it to find that it's blank. As she reads it, the whispers of the objects get louder. But the twist is that the book is her own thoughts, and she's been trying to write them down, but the objects are actually her own subconscious. She's been living with a mental illness, and the \"objects\" are manifestations of her thoughts. The story ends with her realizing she's been in a mental institution, and the library is a part of her therapy.\n",
      "\n",
      "Hmm, that's a possible twist. Alternatively, the twist is that the book is not written by her, but by someone else, and when she reads it, she's actually reliving the life of the author. The story ends with her discovering that she's been living the life of someone else, and the real Clara is in another reality.\n",
      "\n",
      "I think the key is to have a twist that reveals the protagonist's own role in the events. Let's try that. Let's create a story where Clara is a librarian who can hear the thoughts of objects. She's trying to solve a mystery of a missing book. The twist is that the missing book is her own memoir, and the objects' whispers are her own memories, which she's been suppressing. She's been living with a dissociative identity disorder, and the story ends with her realizing that she's not the same person she thought she was. That might be a bit too psychological.\n",
      "\n",
      "Alternatively, maybe the twist is that the objects are not just listening, but they're also trying to protect her. The missing book is a trap, and when she finds it, she realizes it's a way for the objects to keep her safe from her own fate. Maybe she's going to die, and the objects are her way of preventing it, but she's been so focused on finding the book that she's ignored the warnings.\n",
      "\n",
      "Wait, perhaps a more straightforward and shocking ending. Suppose Clara is a woman who has been receiving visions of the future. She's trying to prevent an accident, but the twist is that she's the one in the accident. For example, she's trying to save her friend, but the friend is actually her future self. The story ends with her realizing that she's been living in a time loop, and the friend is the same person she'll meet in the future.\n",
      "\n",
      "Alternatively, the twist is that the visions are not of the future but of the past. She's been trying to prevent something that already happened. That might not be surprising enough.\n",
      "\n",
      "Let me think of a classic twist. The narrator is the villain. For example, Clara is a librarian who's been stealing books, but the story ends with her confessing that she's been doing it to stop a greater evil. Wait, that's a bit cliché.\n",
      "\n",
      "Alternatively, the twist is that the librarian is a robot or an AI. The book she's trying to find is the key to her awakening, and when she opens it, she realizes she's a machine.\n",
      "\n",
      "Hmm, maybe a better approach is to have a mystery that's resolved in a way that turns the reader's assumptions upside down. For example, Clara is trying to find a way to escape the library, but the twist is that the library is a prison, and she's been trapped there for years. The real ending is that the library is her mind, and she's been in a coma.\n",
      "\n",
      "Alternatively, the twist is that the library is a real place, but the books are not real. The story ends with her realizing that she's in a simulation or a virtual reality.\n",
      "\n",
      "I think I need to finalize a plot. Let's go with Clara, a woman who can hear the thoughts of objects. She's been trying to find a book that's been causing chaos in the library. The twist is that the book is her own childhood diary, and the thoughts she hears are actually her own memories. She's been living with a memory disorder, and the story ends with her realizing that she's not actually in the library, but in a mental institution where the staff is using her ability for experiments.\n",
      "\n",
      "Alternatively, the twist could be more emotional. She finds the book, and the whispers reveal that she's been the one causing the chaos, not the book. Maybe she's been using the objects' thoughts to manipulate people, and the twist is that she's been doing this unconsciously, and the book was a way for the objects to confront her.\n",
      "\n",
      "Okay, I think I'll draft a story where Clara is a librarian who can hear the thoughts of objects, and the missing book is her own diary. As she reads it, she realizes that the events she's trying to prevent are actually her own actions, and the twist is that she's been living in a loop, and the real ending is that she's in a mental hospital, and the library is a part of her therapy. That could work. Let me flesh it out now.\n",
      "\n",
      "---------- TextMessage (assistant1) ----------\n",
      "\n",
      "\n",
      "**Title: The Whispering Library**\n",
      "\n",
      "Clara had always found solace in the old library, its dust-laden shelves and sun-bleached windows a sanctuary from the noise of the world. But it wasn’t just the quiet that drew her—it was the whispers. Since childhood, she had heard the faint murmurs of the objects around her: the low sigh of a teacup, the rustle of a book’s pages, the muffled complaints of a chair. They spoke in riddles, offering glimpses into futures she couldn’t quite grasp. \n",
      "\n",
      "One day, a peculiar book arrived on her desk, its spine cracked and title faded. The librarian, an elderly woman named Mrs. Grundy, said it had been lost for decades, last seen in the possession of a boy named Eliot who vanished without a trace. Clara, intrigued, opened the book. The pages were blank, save for a single sentence scrawled in the corner: *“You will find me here, but you will not be able to keep me.”* \n",
      "\n",
      "The whispers grew louder as she read, coalescing into a single, urgent voice. *“Don’t open the next door.”* Clara glanced around, her heart thudding. The library was vast, but every door had been accounted for. Except… she noticed a small, unmarked door near the archives. Her pulse quickened. She approached it, her fingers trembling as she turned the rusted handle. \n",
      "\n",
      "Inside was a dimly lit room, lined with books that pulsed faintly, as if alive. At the center stood Eliot, no older than ten, holding a book identical to the one Clara had just opened. His eyes met hers, and she froze. The whispers screamed in her mind: *“She’s not real. You’re the only one who remembers.”* \n",
      "\n",
      "Clara reached for the book, but Eliot raised a hand. “You’ll forget,” he said, his voice echoing as if from a long-lost memory. “The library isn’t real. It’s your mind, your prison.” \n",
      "\n",
      "The room dissolved around her, and she found herself back in the library, but everything had changed. The walls were now mirrors, and the whispers were her own. The missing book? It had never been missing—it had been *her*. \n",
      "\n",
      "She had been the one who vanished. \n",
      "\n",
      "The twist? Clara wasn’t a librarian at all. She was a patient in a psychiatric ward, trapped in a compulsion to relive the same day, the same library, the same whispers. The \"objects\" were projections of her fractured psyche, and Eliot was a fragment of herself—her younger self, who had died in a car accident years ago. The book had been her memoir, written in the voice of the past, and her journey to \"save\" Eliot was a futile loop, a desperate attempt to reconcile with the trauma of her own existence. \n",
      "\n",
      "As the nurses entered the room, Clara smiled. She had finally understood: the answer wasn’t in the book, but in letting go. The whispers faded, and for the first time, she heard silence.\n",
      "---------- ThoughtEvent (assistant2) ----------\n",
      "\n",
      "Okay, I need to give critical feedback on this short story titled \"The Whispering Library.\" Let me start by reading through it carefully to understand its structure and elements. The story seems to follow Clara's experience in a library where objects whisper to her, leading her to find a mysterious book. The surprise ending reveals that she's actually in a psychiatric ward and that Eliot is her younger self who died. \n",
      "\n",
      "First, the opening paragraph sets a mysterious and atmospheric scene. I like how it introduces the library as a sanctuary and the whispers as a key element. However, maybe the description could be more vivid. Words like \"dust-laden shelves\" and \"sun-bleached windows\" are good, but perhaps adding more sensory details like the smell or the sound of the library would enhance immersion.\n",
      "\n",
      "Next, the arrival of the peculiar book. The librarian is introduced as Mrs. Grundy, who mentions the book was lost for decades and belonged to Eliot, who vanished. Clara opens the book, which has a single sentence. The transition to the whispers growing louder is effective, but the sentence might be too cryptic. Maybe expanding a bit on the implications of the sentence could build suspense better.\n",
      "\n",
      "Then, the unmarked door and the room with pulsating books. The encounter with Eliot is crucial for the twist. However, the dialogue feels a bit abrupt. When Eliot says \"You'll forget,\" it's important to convey that this is a revelation, so maybe some internal conflict or hesitation from Clara could make it more impactful. Also, the sudden shift from the room to the library might need a smoother transition to maintain the story's flow.\n",
      "\n",
      "The twist where Clara realizes she's in a psychiatric ward is the big surprise. However, the transition is a bit jarring. The story jumps from the library to the ward without clear cues, which might confuse the reader. Maybe adding more clues or a gradual realization before the final reveal would help. Also, the explanation that the \"objects\" are projections of her psyche is a bit vague. Clarifying that the library is a mental construct could make the twist more satisfying.\n",
      "\n",
      "The ending with Clara smiling as the nurses enter and the whispers fading is touching. But the connection between her journey and the concept of letting go might need more exploration. Perhaps showing her internal change or how she accepts the reality would make the resolution more complete. The dialogue with Eliot should emphasize the time loop and her attempt to reconcile with her trauma, but maybe that's covered enough.\n",
      "\n",
      "Overall, the story has a good setup with a surprising twist, but the transitions and some details could be smoother. The themes of memory and trauma are strong, and the ending is a good message, but the execution might need refinement. I should check if all feedback is addressed and if the ending is clear without being too abrupt.\n",
      "\n",
      "---------- TextMessage (assistant2) ----------\n",
      "\n",
      "\n",
      "APPROVE\n",
      "---------- TextMessage (society_of_mind) ----------\n",
      "\n",
      "\n",
      "**The Whispering Library**  \n",
      "\n",
      "Clara had always found solace in the old library, its dust-laden shelves and sun-bleached windows a sanctuary from the noise of the world. But it wasn’t just the quiet that drew her—it was the whispers. Since childhood, she had heard the faint murmurs of the objects around her: the low sigh of a teacup, the rustle of a book’s pages, the muffled complaints of a chair. They spoke in riddles, offering glimpses into futures she couldn’t quite grasp.  \n",
      "\n",
      "One day, a peculiar book arrived on her desk, its spine cracked and title faded. The librarian, an elderly woman named Mrs. Grundy, said it had been lost for decades, last seen in the possession of a boy named Eliot who vanished without a trace. Clara, intrigued, opened the book. The pages were blank, save for a single sentence scrawled in the corner: *“You will find me here, but you will not be able to keep me.”*  \n",
      "\n",
      "The whispers grew louder as she read, coalescing into a single, urgent voice. *“Don’t open the next door.”* Clara glanced around, her heart thudding. The library was vast, but every door had been accounted for. Except… she noticed a small, unmarked door near the archives. Her pulse quickened. She approached it, her fingers trembling as she turned the rusted handle.  \n",
      "\n",
      "Inside was a dimly lit room, lined with books that pulsed faintly, as if alive. At the center stood Eliot, no older than ten, holding a book identical to the one Clara had just opened. His eyes met hers, and she froze. The whispers screamed in her mind: *“She’s not real. You’re the only one who remembers.”*  \n",
      "\n",
      "Clara reached for the book, but Eliot raised a hand. “You’ll forget,” he said, his voice echoing as if from a long-lost memory. “The library isn’t real. It’s your mind, your prison.”  \n",
      "\n",
      "The room dissolved around her, and she found herself back in the library, but everything had changed. The walls were now mirrors, and the whispers were her own. The missing book? It had never been missing—it had been *her*.  \n",
      "\n",
      "She had been the one who vanished.  \n",
      "\n",
      "As the nurses entered the room, Clara smiled. She had finally understood: the answer wasn’t in the book, but in letting go. The whispers faded, and for the first time, she heard silence.\n",
      "---------- ThoughtEvent (assistant3) ----------\n",
      "\n",
      "Okay, the user asked me to translate the short story \"The Whispering Library\" into Spanish. First, I need to make sure I understand the story thoroughly so that the translation captures the nuances and the surprising ending. The story has a mystical and psychological tone, so it's important to maintain that atmosphere in Spanish.\n",
      "\n",
      "I'll start by translating the title. \"The Whispering Library\" becomes \"La Biblioteca Susurrante.\" Next, I'll go through each paragraph carefully. The first paragraph sets the scene, so I need to ensure the imagery of the old library is preserved. Words like \"dust-laden shelves\" should be translated in a way that conveys the same sense of age and neglect. Maybe \"estanterías polvorientas\" for that. \n",
      "\n",
      "The whispers are a key element, so using \"susurros\" and making sure they're consistently translated as such. The sentence where the book's title is faded: \"la espalda agrietada y el título desvanecido.\" I should check for any idiomatic expressions that might not translate directly. For example, \"sanctuary from the noise of the world\" becomes \"sanctuario frente al ruido del mundo.\"\n",
      "\n",
      "The librarian's name is Mrs. Grundy. In Spanish, it's common to use the same name but sometimes add \"señora\" before it. So \"la viuda Grundy\" might be better, as \"viuda\" implies an elderly woman, which matches the original. \n",
      "\n",
      "The line \"You will find me here, but you will not be able to keep me\" needs to be in Spanish while keeping its enigmatic quality. \"Encontrarás a mí aquí, pero no podrás conservarme\" seems appropriate. \n",
      "\n",
      "The part where the room dissolves and the walls become mirrors: I should ensure the verbs like \"dissolved\" are translated accurately. \"Se desvaneció\" for \"dissolved\" and \"paredes ahora eran espejos\" for \"walls were now mirrors.\"\n",
      "\n",
      "The final twist that Clara had vanished needs to be clear. \"Era la que había desaparecido\" conveys that she was the one who disappeared. The ending about the answer being in letting go: \"la respuesta no estaba en el libro, sino en soltar\" keeps the meaning intact.\n",
      "\n",
      "I'll also check for consistency in terms like \"whispers\" and ensure that the story's structure remains the same. Pay attention to the flow and make sure the translated sentences read naturally in Spanish. \n",
      "\n",
      "Need to verify if the names and terms are correctly translated. For example, \"Eliot\" stays as Eliot, but \"Mrs. Grundy\" is \"la viuda Grundy.\" The medical part at the end mentions nurses, so \"enfermeras\" is correct. \n",
      "\n",
      "I should also ensure that the surprising ending is clear and impactful in Spanish. The last sentence about silence: \"para la primera vez, escuchó el silencio.\" \n",
      "\n",
      "Once translated, I'll review the entire text to check for any grammatical errors or awkward phrasings. Make sure the suspense and the twist are effectively conveyed. \n",
      "\n",
      "Lastly, confirm that the story's length remains short and that the translation doesn't add or omit any elements. The user's request was for a short story with a surprising ending, so the Spanish version should meet that requirement. \n",
      "\n",
      "I think that's a solid plan. Now, time to do the translation with these considerations in mind.\n",
      "\n",
      "---------- TextMessage (assistant3) ----------\n",
      "\n",
      "\n",
      "**La Biblioteca Susurrante**  \n",
      "\n",
      "Clara siempre había encontrado consuelo en la antigua biblioteca, sus estanterías polvorientas y ventanas descoloridas por el sol un santuario frente al ruido del mundo. Pero no era solo el silencio lo que la atraía; era el susurro. Desde su infancia, había escuchado las suaves murmuraciones de los objetos que la rodeaban: el suspiro bajo de una taza, el crujido de las páginas de un libro, los quejidos amortiguados de una silla. Hablaban en acertijos, ofreciendo miradas a futuros que no lograba comprender del todo.  \n",
      "\n",
      "Un día, un libro peculiar llegó a su escritorio, su espalda agrietada y título desvanecido. La bibliotecaria, una anciana llamada la viuda Grundy, le dijo que había estado perdido durante décadas, último visto en manos de un niño llamado Eliot quien desapareció sin dejar rastro. Clara, intrigada, abrió el libro. Las páginas estaban en blanco, excepto por una sola frase escrita en la esquina: *«Encontrarás a mí aquí, pero no podrás conservarme.»*  \n",
      "\n",
      "Los susurros se hicieron más claros mientras leía, coalesciendo en una sola voz urgente. *«No abras la siguiente puerta.»* Clara miró a su alrededor, su corazón latiendo con fuerza. La biblioteca era vasta, pero todas las puertas habían sido cuentas. Excepto… notó una pequeña puerta sin marcar cerca de los archivos. Su pulso se aceleró. Se acercó a ella, sus dedos temblorosos mientras giraba el manillar oxidado.  \n",
      "\n",
      "Dentro estaba una habitación iluminada débilmente, llena de libros que pulsaban suavemente, como si estuvieran vivos. En el centro se encontraba Eliot, no mayor de diez años, sosteniendo un libro idéntico al que Clara acababa de abrir. Sus ojos se encontraron, y ella se quedó helada. Los susurros gritaban en su mente: *«Ella no es real. Tú eres la única que recuerda.»*  \n",
      "\n",
      "Clara se acercó al libro, pero Eliot levantó la mano. «Olvidarás», dijo, su voz resonando como si proveniera de un recuerdo perdido. «La biblioteca no es real. Es tu mente, tu prisión.»  \n",
      "\n",
      "La habitación se desvaneció a su alrededor, y se encontró nuevamente en la biblioteca, pero todo había cambiado. Las paredes ahora eran espejos, y los susurros eran sus propios pensamientos. ¿El libro perdido? Nunca había estado perdido—había sido *ella*.  \n",
      "\n",
      "Era la que había desaparecido.  \n",
      "\n",
      "Cuando las enfermeras entraron en la habitación, Clara sonrió. Finalmente había entendido: la respuesta no estaba en el libro, sino en soltar. Los susurros se extinguieron, y por primera vez, escuchó el silencio.\n"
     ]
    }
   ],
   "source": [
    "import asyncio\n",
    "from autogen_agentchat.ui import Console\n",
    "from autogen_agentchat.agents import AssistantAgent, SocietyOfMindAgent\n",
    "from autogen_ext.models.openai import OpenAIChatCompletionClient\n",
    "from autogen_agentchat.teams import RoundRobinGroupChat\n",
    "from autogen_agentchat.conditions import TextMentionTermination\n",
    "import nest_asyncio  # 新增：解决嵌套循环问题\n",
    "\n",
    "# 应用nest_asyncio补丁\n",
    "nest_asyncio.apply()\n",
    "\n",
    "async def main() -> None:\n",
    "    agent1 = AssistantAgent(\"assistant1\", model_client=model_client, system_message=\"You are a writer, write well.\")\n",
    "    agent2 = AssistantAgent(\n",
    "        \"assistant2\",\n",
    "        model_client=model_client,\n",
    "        system_message=\"You are an editor, provide critical feedback. Respond with 'APPROVE' if the text addresses all feedbacks.\",\n",
    "    )\n",
    "    inner_termination = TextMentionTermination(\"APPROVE\")\n",
    "    inner_team = RoundRobinGroupChat([agent1, agent2], termination_condition=inner_termination ,max_turns=4)\n",
    "\n",
    "    society_of_mind_agent = SocietyOfMindAgent(\"society_of_mind\", team=inner_team, model_client=model_client)\n",
    "\n",
    "    agent3 = AssistantAgent(\n",
    "        \"assistant3\", model_client=model_client, system_message=\"Translate the text to Spanish.\"\n",
    "    )\n",
    "    team = RoundRobinGroupChat([society_of_mind_agent, agent3], max_turns=2)\n",
    "\n",
    "    stream = team.run_stream(task=\"Write a short story with a surprising ending.\")\n",
    "    await Console(stream)\n",
    "\n",
    "\n",
    "# 仅在顶层调用一次asyncio.run\n",
    "if __name__ == \"__main__\":\n",
    "    asyncio.run(main())\n"
   ]
  },
  {
   "cell_type": "markdown",
   "id": "fd524367-1b51-4877-b52e-a07c3842d7fb",
   "metadata": {},
   "source": [
    "我们可以这样理解：对于一个询问的message，SocietyOfMindAgent首先会将其交给其中的team进行解决，然后将team回复过程中生成的messages作为他的模型client的上下文内容进行一个总结，\n",
    "比如上述例子中：当助手1和助手2协同写出这个故事后，SocietyOfMindAgent会将team协同的messages作为模型上下文内容输入给助手3，让助手3的模型对最终内容进行翻译。"
   ]
  },
  {
   "cell_type": "markdown",
   "id": "e766e3f7",
   "metadata": {},
   "source": [
    "## Agent 的操作\n",
    "\n",
    "本部分示例全部使用 Assistant Agent 进行演示。"
   ]
  },
  {
   "cell_type": "markdown",
   "id": "6bd988aa",
   "metadata": {},
   "source": [
    "### 得到执行结果 Get Result\n",
    "\n",
    "使用方法 `run()` 得到Agent的执行结果。\n"
   ]
  },
  {
   "cell_type": "code",
   "execution_count": 4,
   "id": "d60987a4",
   "metadata": {},
   "outputs": [
    {
     "name": "stdout",
     "output_type": "stream",
     "text": [
      "[TextMessage(source='user', models_usage=None, metadata={}, content='Find information on AutoGen', type='TextMessage'), ThoughtEvent(source='assistant', models_usage=None, metadata={}, content='\\nOkay, the user asked me to \"Find information on AutoGen.\" Wait, didn\\'t they just get an introduction to AutoGen in the previous interaction? Let me check the history. Yes, I provided a detailed explanation about AutoGen, including its features, applications, and a simple example. So why is the user asking again? Maybe they want more in-depth information or want to verify the details. Alternatively, they might have missed some parts or are looking for official sources.\\n\\nI should consider that the user might be looking for the official documentation or links to where they can find more information about AutoGen. They might also want to know about the latest updates, community resources, or how to get started with it. Since AutoGen is a Microsoft Research project, it\\'s possible they need to know where to access the code or the official website.\\n\\nIn the previous response, I mentioned that AutoGen is open-source, so perhaps they want to know how to install it or use it. They might also be interested in case studies or research papers that use the framework. I should make sure to cover these points and provide additional resources beyond the initial explanation. Let me structure the answer by highlighting key resources, documentation links, and maybe some community platforms. Also, include how to install or use it, and mention any recent developments. That way, the user gets comprehensive information to explore further.\\n', type='ThoughtEvent'), TextMessage(source='assistant', models_usage=RequestUsage(prompt_tokens=1218, completion_tokens=1802), metadata={}, content='\\n\\nAutoGen 是由 Microsoft Research 开发的一套开源框架，主要用于构建和管理多智能体协作系统。以下是关于 AutoGen 的更详细信息，包括官方资源、开发文档、使用指南和相关链接：\\n\\n---\\n\\n### **1. 官方资源**\\n- **GitHub 仓库**  \\n  AutoGen 的源代码和项目页面托管在 GitHub 上，地址为：  \\n  [https://github.com/microsoft/autogen](https://github.com/microsoft/autogen)  \\n  这里可以访问项目的最新版本、示例代码、文档和贡献指南。\\n\\n- **微软研究博客**  \\n  Microsoft Research 会发布关于 AutoGen 的技术更新和应用案例，例如：  \\n  [https://blogs.microsoft.com/ai/](https://blogs.microsoft.com/ai/)  \\n\\n---\\n\\n### **2. 开发文档**\\n- **官方文档网站**  \\n  AutoGen 提供了详细的开发文档，涵盖核心概念、API 用法、协作模式等：  \\n  [https://microsoft.github.io/autogen/](https://microsoft.github.io/autogen/)  \\n  文档中包含：  \\n  - **Installation**（安装指导）  \\n  - **Quick Start**（快速入门）  \\n  - **Tutorials**（教程）  \\n  - **Advanced Usage**（高级功能）  \\n  - **Examples**（示例代码）\\n\\n- **核心功能说明**  \\n  - **Multi-Agent**：支持多个角色（如 `UserProxyAgent`, `AssistantAgent`）的协作。  \\n  - **Autonomous Collaboration**：通过定义目标和策略实现自动对话管理。  \\n  - **Role-Playing**：模拟不同专业角色（如科学家、律师）进行任务分工。  \\n\\n---\\n\\n### **3. 使用指南**\\n- **安装 AutoGen**  \\n  通过 pip 安装：  \\n  ```bash\\n  pip install autogen\\n  ```\\n  也可以从源代码安装：  \\n  ```bash\\n  git clone https://github.com/microsoft/autogen.git\\n  cd autogen\\n  pip install -e .\\n  ```\\n\\n- **基本用法**  \\n  创建智能体并启动协作流程的示例代码：  \\n  ```python\\n  from autogen import UserProxyAgent, AssistantAgent\\n\\n  # 定义用户代理（需要人类输入）\\n  user_proxy = UserProxyAgent(\"user_proxy\", human_input_mode=\"ALWAYS\")\\n\\n  # 定义助理代理（使用 LLM）\\n  assistant = AssistantAgent(\"assistant\", llm_config={\"model\": \"gpt-3.5-turbo\"})\\n\\n  # 启动对话\\n  user_proxy.initiate_chat(assistant, message=\"What is the sum of 1 + 1?\")\\n  ```\\n\\n- **协作模式**  \\n  - **自主协作**：智能体自动执行任务（无管理员或人类介入）。  \\n  - **自主+管理员**：管理员介入关键决策（如 `AdminAssistant`）。  \\n  - **自主+人类**：结合人类反馈优化流程。  \\n\\n---\\n\\n### **4. 应用场景与案例**\\n- **复杂任务分解**：例如论文写作、数据分析、代码生成等。  \\n- **自动化客服**：多角色分工处理用户咨询、技术问题、订单管理等。  \\n- **多轮推理系统**：通过智能体之间的辩论或协商优化答案。  \\n- **自定义角色**：开发者可以定义各种角色（如 `Coder`, `Scientist`, `Lawyer`）并为其分配特定技能。\\n\\n---\\n\\n### **5. 与其他框架的区别**\\n| 特性 | AutoGen | LangChain | AgentGPT |\\n|------|---------|---------|--------|\\n| **核心定位** | 多智能体协作 | 单个 LLM 工作流 | 多智能体协作 |\\n| **支持的 LLM** | GPT-3.5, GPT-4, Claude, Qwen 等 | 更侧重本地模型或特定 API | 与 AutoGen 类似，但功能更精简 |\\n| **协作策略** | 提供丰富的对话管理策略（如自主、管理员、人类协作） | 更注重单个模型的链式调用 | 需手动定义协作逻辑 |\\n| **模块化设计** | 易于扩展和定制 | 更静态 | 功能接近 AutoGen |\\n\\n---\\n\\n### **6. 社区与资源**\\n- **社区论坛**：  \\n  AutoGen 有活跃的开发者社区，可以在 GitHub Issues 或社区讨论区提问：  \\n  [https://github.com/microsoft/autogen/discussions](https://github.com/microsoft/autogen/discussions)\\n\\n- **教程与案例**  \\n  - [https://github.com/microsoft/autogen/tree/main/autogen](https://github.com/microsoft/autogen/tree/main/autogen)  \\n    存放了多个示例代码和教程。  \\n  - [https://github.com/microsoft/autogen/tree/main/examples](https://github.com/microsoft/autogen/tree/main/examples)  \\n    提供了完整的项目案例（如数学问题求解、财务分析、内容生成等）。\\n\\n- **学术论文**  \\n  AutoGen 的相关研究可以参考 Microsoft Research 的论文，如：  \\n  [https://arxiv.org/abs/2305.10344](https://arxiv.org/abs/2305.10344)（原始论文）  \\n  [https://microsoft.github.io/autogen/autogen.html](https://microsoft.github.io/autogen/autogen.html)（论文摘要）\\n\\n---\\n\\n### **7. 最新动态**\\n- **更新日志**  \\n  可以在 GitHub 的 `Releases` 部分查看 AutoGen 的版本更新和新功能：  \\n  [https://github.com/microsoft/autogen/releases](https://github.com/microsoft/autogen/releases)\\n\\n- **合作伙伴与扩展**  \\n  AutoGen 可与多种工具集成，例如：  \\n  - **LangChain**：用于增强代理的推理能力。  \\n  - **Docker**：方便部署和运行。  \\n  - **Jupyter Notebooks**：支持交互式实验。\\n\\n---\\n\\n### **8. 相关资源链接**\\n- **官方 GitHub 仓库**：[https://github.com/microsoft/autogen](https://github.com/microsoft/autogen)  \\n- **文档页面**：[https://microsoft.github.io/autogen/](https://microsoft.github.io/autogen/)  \\n- **技术博客**：[https://blogs.microsoft.com/ai/](https://blogs.microsoft.com/ai/)  \\n- **社区讨论**：[https://github.com/microsoft/autogen/discussions](https://github.com/microsoft/autogen/discussions)  \\n- **学术论文**：[https://arxiv.org/abs/2305.10344](https://arxiv.org/abs/2305.10344)\\n\\n---\\n\\n如果需要进一步了解某个具体功能（如如何实现多轮推理、角色定义详解等），可以告诉我你的需求，我会为你提供更详细的解析！', type='TextMessage')]\n"
     ]
    }
   ],
   "source": [
    "# Use asyncio.run(agent.run(...)) when running in a script.\n",
    "result = await agent.run(task=\"Find information on AutoGen\")\n",
    "print(result.messages)"
   ]
  },
  {
   "cell_type": "markdown",
   "id": "45e27d7f",
   "metadata": {},
   "source": [
    "调用 `run()` 方法时，Agent 会自动更新其内部状态 —— 也就是说，`run()` 会把本次交互的消息加入到 Agent 的消息历史中。  你还可以在不传递新任务（task）的情况下调用 `run()`，此时 Agent 会基于当前的历史状态生成回复。这种方式适合多轮对话或让 Agent 根据上下文继续推理和输出。"
   ]
  },
  {
   "cell_type": "code",
   "execution_count": 5,
   "id": "6971d0f6",
   "metadata": {},
   "outputs": [
    {
     "data": {
      "text/plain": [
       "TaskResult(messages=[TextMessage(source='assistant', models_usage=RequestUsage(prompt_tokens=2745, completion_tokens=0), metadata={}, content='', type='TextMessage')], stop_reason=None)"
      ]
     },
     "execution_count": 5,
     "metadata": {},
     "output_type": "execute_result"
    }
   ],
   "source": [
    "await agent.run()"
   ]
  },
  {
   "cell_type": "markdown",
   "id": "d454b3dd",
   "metadata": {},
   "source": [
    "### 多模态输入\n",
    "\n",
    "AssistantAgent 支持多模态输入，只需将输入封装为 `MultiModalMessage` 即可。  \n",
    "这意味着你可以在一次消息中同时传递文本、图片、音频、视频等多种内容，Agent 会自动识别和处理。\n",
    "\n",
    "\n",
    "关于 `MultiModalMessage` 的构建 参考 `1-Messages.ipynb`"
   ]
  },
  {
   "cell_type": "markdown",
   "id": "4faa38f2",
   "metadata": {},
   "source": [
    "调用多模态大模型，创建视觉助手 Agent。\n",
    "\n",
    "我调用的是硅基流动平台的 API。"
   ]
  },
  {
   "cell_type": "code",
   "execution_count": 2,
   "id": "999628a1",
   "metadata": {},
   "outputs": [],
   "source": [
    "# 调用多模态大模型，创建视觉助手 Agent\n",
    "import os\n",
    "from dotenv import load_dotenv\n",
    "from autogen_ext.models.openai import OpenAIChatCompletionClient\n",
    "from autogen_agentchat.agents import AssistantAgent\n",
    "\n",
    "load_dotenv()\n",
    "siliconflow_api_key = os.getenv(\"SILICONFLOW_API_KEY\") # 读取你的 OPENAI API key\n",
    "\n",
    "# 初始化 OpenAIChatCompletionClient 客户端，连接到硅基流动平台的 Qwen3-8B 模型\n",
    "vl_client = OpenAIChatCompletionClient(\n",
    "    model=\"Pro/Qwen/Qwen2.5-VL-7B-Instruct\",                # 指定要调用的模型名称，硅基流动平台上 Qwen 3-8B 模型\n",
    "    base_url=\"https://api.siliconflow.cn/v1\",  # 硅基流动平台的 API 访问地址\n",
    "    api_key=siliconflow_api_key,  # 你的 API 密钥\n",
    "    model_info={                        \n",
    "        \"family\": \"qwen\",              \n",
    "        \"context_length\": 8192,        \n",
    "        \"max_output_tokens\": 2048,     \n",
    "        \"tool_choice_supported\": True, \n",
    "        \"tool_choice_required\": False,  \n",
    "        \"structured_output\": True,     \n",
    "        \"vision\": True,                \n",
    "        \"function_calling\": False,      \n",
    "        \"json_output\": True           \n",
    "    },\n",
    ")\n",
    "\n",
    "agent_vl = AssistantAgent(\n",
    "    name=\"assistant\",\n",
    "    model_client=vl_client,\n",
    "    system_message=\"你是一个乐于助人的中文助手。\"\n",
    ")"
   ]
  },
  {
   "cell_type": "markdown",
   "id": "720d3538",
   "metadata": {},
   "source": [
    "创建多模态消息"
   ]
  },
  {
   "cell_type": "code",
   "execution_count": 3,
   "id": "bff43cbf",
   "metadata": {},
   "outputs": [
    {
     "data": {
      "text/html": [
       "<img src=\"data:image/png;base64,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\"/>"
      ],
      "text/plain": [
       "<autogen_core._image.Image at 0x2c0d3110d90>"
      ]
     },
     "execution_count": 3,
     "metadata": {},
     "output_type": "execute_result"
    }
   ],
   "source": [
    "from io import BytesIO\n",
    "import PIL\n",
    "import requests\n",
    "from autogen_agentchat.messages import MultiModalMessage\n",
    "from autogen_core import Image\n",
    "\n",
    "# 步骤1：从网络下载一张随机图片，并用 PIL.Image 打开\n",
    "pil_image = PIL.Image.open(BytesIO(requests.get(\"https://picsum.photos/300/200\").content))\n",
    "\n",
    "# 步骤2：将 PIL.Image 对象包装为 AutoGen 的 Image 对象\n",
    "img = Image(pil_image)\n",
    "\n",
    "# 步骤3：创建一个多模态消息，包含文本和图片\n",
    "multi_modal_message = MultiModalMessage(\n",
    "    content=[\"Can you describe the content of this image?\", img],  # 同时包含文本和图片\n",
    "    source=\"user\"  # 消息来源\n",
    ")\n",
    "\n",
    "# img 变量现在是一个 AutoGen 的图片对象，可以用于多模态输入\n",
    "img"
   ]
  },
  {
   "cell_type": "markdown",
   "id": "7a459bc3",
   "metadata": {},
   "source": [
    "得到多模态消息处理结果"
   ]
  },
  {
   "cell_type": "code",
   "execution_count": 35,
   "id": "053dd28b",
   "metadata": {},
   "outputs": [
    {
     "name": "stdout",
     "output_type": "stream",
     "text": [
      "The image showcases a rugged coastal landscape with a series of cliffs that drop dramatically into a deep blue body of water, likely an ocean or large sea. The cliffs feature vegetation, indicating undisturbed, natural terrain with sporadic sparse greenery speckling the otherwise rocky and bare surfaces. The right-hand cliff is steeper and more open to the view, whereas the left-hand cliff has a fuller, more layered appearance. The background continues the view of the open blue water, meeting the horizon under a clear sky, which enhances the picturesque and tranquil nature of the scene.\n"
     ]
    }
   ],
   "source": [
    "# Use asyncio.run(...) when running in a script.\n",
    "result = await agent_vl.run(task=multi_modal_message)\n",
    "print(result.messages[-1].content)  # type: ignore\n"
   ]
  },
  {
   "cell_type": "markdown",
   "id": "edce337b",
   "metadata": {},
   "source": [
    "### Streaming Messages **(Todo)**\n",
    "\n",
    "你可以使用 `run_stream()` 方法实现消息(Message)的流式输出。这样，Agent 每生成一段内容就会立即返回，你可以实时处理和展示这些消息。\n",
    "\n",
    "**说明：**\n",
    "- `run_stream()` 返回一个异步生成器，每次生成一条消息。\n",
    "- 适合需要实时展示模型输出的场景，比如聊天界面、命令行交互等。\n",
    "- 要实现流式输出需要智能体在定义的时候显式声名\n",
    "\n",
    "参考：https://microsoft.github.io/autogen/dev/user-guide/agentchat-user-guide/tutorial/agents.html#streaming-messages"
   ]
  },
  {
   "cell_type": "code",
   "execution_count": 4,
   "id": "5dac64c5-08e7-4f8a-84eb-2e94eb3cdbad",
   "metadata": {},
   "outputs": [
    {
     "name": "stdout",
     "output_type": "stream",
     "text": [
      "The image shows a bowl of oatmeal topped with sliced strawberries and what appears to be rolling pin-shaped oats scattered on top. The bowl is white and placed on a light surface. It looks comforting and refreshing, suggesting a healthy breakfast or snack option.\n"
     ]
    }
   ],
   "source": [
    "async def assistant_run_stream() -> None:\n",
    "    # Option 1: read each message from the stream (as shown in the previous example).\n",
    "    async for message in agent_vl.run_stream(task=multi_modal_message):\n",
    "        if isinstance(message, TextMessage):\n",
    "            final_text = message.content\n",
    "            print(final_text)\n",
    "\n",
    "# Use asyncio.run(assistant_run_stream()) when running in a script.\n",
    "await assistant_run_stream()"
   ]
  },
  {
   "cell_type": "markdown",
   "id": "18a6e64e",
   "metadata": {},
   "source": [
    "### Using Tools and Workbench\n",
    "\n",
    "大语言模型（LLM）本身通常只能生成文本或代码，但许多复杂任务需要调用外部工具（如 API、数据库等）来获取数据或执行操作。"
   ]
  },
  {
   "cell_type": "markdown",
   "id": "2acf594e",
   "metadata": {},
   "source": [
    "#### 工具调用 Tool Calling / Function Calling\n",
    "\n",
    "现代 LLM 支持“工具调用”能力：  \n",
    "- 你可以为模型提供一组工具的描述（schema），模型会根据对话内容自动生成工具调用请求。\n",
    "- 这种能力已成为智能体应用开发的主流模式（如 OpenAI、Anthropic 的 Function Calling）。\n",
    "\n",
    "\n",
    "内置工具\n",
    "\n",
    "Built-in Tools and Workbench\n",
    "\n",
    "AutoGen Extension 提供了一系列内置工具（built-in tools），可以直接与 AssistantAgent 配合使用，极大扩展了智能体的能力。  \n",
    "所有可用工具都在 `autogen_ext.tools` 命名空间下，具体工具和用法可参考 [API 文档](https://microsoft.github.io/autogen/dev/reference/python/autogen_ext.tools.html)。\n",
    "\n",
    "---\n",
    "\n",
    "常见内置工具示例\n",
    "\n",
    "- **graphrag**：用于操作 GraphRAG 索引的工具，适合知识图谱和检索增强生成场景。\n",
    "\n",
    "  参考链接：https://microsoft.github.io/autogen/dev/reference/python/autogen_ext.tools.graphrag.html#module-autogen_ext.tools.graphrag\n",
    "  \n",
    "- **http**：用于发起 HTTP 请求的工具，支持 GET、POST 等操作，适合联网获取数据。\n",
    "\n",
    "    参考链接：https://microsoft.github.io/autogen/dev/reference/python/autogen_ext.tools.http.html#module-autogen_ext.tools.http\n",
    "\n",
    "- **langchain**：适配 LangChain 工具生态，让 AutoGen 能直接调用 LangChain 的工具。\n",
    "\n",
    "    参考链接：https://microsoft.github.io/autogen/dev/reference/python/autogen_ext.tools.langchain.html#module-autogen_ext.tools.langchain\n",
    "\n",
    "- **mcp**：用于与 Model Chat Protocol (MCP) 服务器交互的工具和工作台，适合多模型协作和分布式智能体场景。\n",
    "\n",
    "    参考链接：https://microsoft.github.io/autogen/dev/reference/python/autogen_ext.tools.mcp.html#module-autogen_ext.tools.mcp\n"
   ]
  },
  {
   "cell_type": "markdown",
   "id": "b3a7b3e1",
   "metadata": {},
   "source": [
    "#### Function Tool\n",
    "\n",
    "`AssistantAgent` 会自动将 Python 函数转换为 FunctionTool，并根据函数签名和 docstring 自动生成工具 schema。  \n",
    "这样你只需定义好 Python 函数，Agent 就能自动识别并调用，无需手动编写复杂的工具描述。\n",
    "\n",
    "输出的 schema 会自动包含函数名、描述、参数类型等信息，供模型调用。\n"
   ]
  },
  {
   "cell_type": "code",
   "execution_count": 12,
   "id": "5eae86a7",
   "metadata": {},
   "outputs": [
    {
     "name": "stdout",
     "output_type": "stream",
     "text": [
      "{'name': 'web_search_func', 'description': 'Find information on the web', 'parameters': {'type': 'object', 'properties': {'query': {'description': 'query', 'title': 'Query', 'type': 'string'}}, 'required': ['query'], 'additionalProperties': False}, 'strict': False}\n"
     ]
    }
   ],
   "source": [
    "from autogen_core.tools import FunctionTool\n",
    "\n",
    "# 定义一个工具函数\n",
    "async def web_search_func(query: str) -> str:\n",
    "    \"\"\"Find information on the web\"\"\"\n",
    "    return \"AutoGen is a programming framework for building multi-agent applications.\"\n",
    "\n",
    "# AssistantAgent 内部会自动完成这一步\n",
    "web_search_function_tool = FunctionTool(web_search_func, description=\"Find information on the web\")\n",
    "print(web_search_function_tool.schema)"
   ]
  },
  {
   "cell_type": "markdown",
   "id": "89693d54",
   "metadata": {},
   "source": [
    "#### MCP Workbench（待完善）\n",
    "\n",
    "AssistantAgent 还可以通过 `McpWorkbench()` 使用 MCP 服务器上的工具，实现跨进程、跨平台的工具调用。"
   ]
  },
  {
   "cell_type": "code",
   "execution_count": null,
   "id": "a70185cf",
   "metadata": {},
   "outputs": [],
   "source": [
    "from autogen_agentchat.agents import AssistantAgent\n",
    "from autogen_agentchat.messages import TextMessage\n",
    "from autogen_ext.models.openai import OpenAIChatCompletionClient\n",
    "from autogen_ext.tools.mcp import McpWorkbench, StdioServerParams\n",
    "\n",
    "# 配置 MCP 服务器\n",
    "fetch_mcp_server = StdioServerParams(command=\"uvx\", args=[\"mcp-server-fetch\"])\n",
    "\n",
    "# 创建 MCP 工作台并与 Agent 绑定\n",
    "async with McpWorkbench(fetch_mcp_server) as workbench:\n",
    "    model_client = OpenAIChatCompletionClient(model=\"gpt-4.1-nano\")\n",
    "    fetch_agent = AssistantAgent(\n",
    "        name=\"fetcher\", model_client=model_client, workbench=workbench, reflect_on_tool_use=True\n",
    "    )\n",
    "\n",
    "    # 让 Agent 使用 MCP 工具抓取网页内容并总结\n",
    "    result = await fetch_agent.run(task=\"Summarize the content of https://en.wikipedia.org/wiki/Seattle\")\n",
    "    print(result.messages[-1].content)\n",
    "    await model_client.close()"
   ]
  },
  {
   "cell_type": "markdown",
   "id": "fdd394ac",
   "metadata": {},
   "source": [
    "#### Parallel Tool Calls（待完善）\n",
    "\n",
    "部分模型支持**并行工具调用**，即一次对话中可同时调用多个工具。  \n",
    "AssistantAgent 默认会并行调用所有工具（如果模型支持）。\n",
    "\n",
    "- 如果你的工具有副作用或需要串行执行，可以在 model_client 层关闭并行调用。"
   ]
  },
  {
   "cell_type": "code",
   "execution_count": null,
   "id": "54714767",
   "metadata": {},
   "outputs": [],
   "source": [
    "model_client_no_parallel_tool_call = OpenAIChatCompletionClient(\n",
    "    model=\"gpt-4o\",\n",
    "    parallel_tool_calls=False,  # 禁用并行工具调用\n",
    ")\n",
    "agent_no_parallel_tool_call = AssistantAgent(\n",
    "    name=\"assistant\",\n",
    "    model_client=model_client_no_parallel_tool_call,\n",
    "    tools=[web_search],\n",
    "    system_message=\"Use tools to solve tasks.\",\n",
    ")"
   ]
  },
  {
   "cell_type": "markdown",
   "id": "8b969092",
   "metadata": {},
   "source": [
    "### 结构化输出（待完善）\n",
    "\n",
    "结构化输出允许模型根据你定义的 `Pydantic BaseModel` 类，返回结构化的 JSON 数据。这种方式比普通的 JSON-mode 更强大，因为你可以直接用 Python 类型校验和解析模型输出，方便集成到实际应用中。\n",
    "\n",
    "- 你定义一个继承自 `pydantic.BaseModel` 的输出数据结构（schema）。\n",
    "- 在创建 `AssistantAgent` 时，通过 `output_content_type` 参数指定这个 schema。\n",
    "- Agent 回复时会自动生成一个 `StructuredMessage`，其 `content` 字段就是你定义的 BaseModel 类型对象。\n",
    "- 你可以直接用 Python 代码访问和校验结构化内容。"
   ]
  },
  {
   "cell_type": "code",
   "execution_count": null,
   "id": "23bad4ec",
   "metadata": {},
   "outputs": [],
   "source": [
    "from typing import Literal\n",
    "from autogen_agentchat.agents import AssistantAgent\n",
    "\n",
    "from pydantic import BaseModel\n",
    "\n",
    "# 定义 Agent 的结构化响应格式，继承自 Pydantic 的 BaseModel。\n",
    "class AgentResponse(BaseModel):\n",
    "    thoughts: str  # 思考过程\n",
    "    response: Literal[\"happy\", \"sad\", \"neutral\"]  # 只能是 happy、sad 或 neutral 之一\n",
    "\n",
    "# 创建一个 Agent。\n",
    "model_client = model_client\n",
    "agent = AssistantAgent(\n",
    "    \"assistant\",\n",
    "    model_client=model_client,\n",
    "    system_message=\"请按照 JSON 格式将输入分类为 happy、sad 或 neutral。\",\n",
    "    # 指定 Agent 的结构化输出类型。\n",
    "    output_content_type=AgentResponse,\n",
    ")\n",
    "\n",
    "# 运行任务并流式输出结果\n",
    "result = await Console(agent.run_stream(task=\"I am happy.\"))\n",
    "\n",
    "# 检查最后一条消息类型，并打印思考内容和分类结果\n",
    "assert isinstance(result.messages[-1], StructuredMessage)\n",
    "assert isinstance(result.messages[-1].content, AgentResponse)\n",
    "print(\"思考过程: \", result.messages[-1].content.thoughts)\n",
    "print(\"分类结果: \", result.messages[-1].content.response)\n",
    "await model_client.close()"
   ]
  },
  {
   "cell_type": "markdown",
   "id": "87cdfa06",
   "metadata": {},
   "source": [
    "## CustomAgent\n",
    "\n",
    "在 AutoGen 中，如果你的需求不属于任何预设 Agent，可以通过继承 `BaseChatAgent` 来构建自定义 Agent。所有 Agent 都继承自 `BaseChatAgent`，并需要实现以下抽象方法和属性：\n",
    "\n",
    "\n",
    "| 方法/属性                | 说明                                                                   | 是否必须实现 |\n",
    "|--------------------------|-----------------------------------------------------------------------|--------------|\n",
    "| `on_messages()`          | 定义 Agent 收到消息时的行为逻辑，返回 Response 对象。                     | 必须         |\n",
    "| `on_reset()`             | 重置 Agent 状态到初始状态。                                              | 必须         |\n",
    "| `produced_message_types` | 声明该 Agent 能产生的消息类型（BaseChatMessage 子类列表）。                 | 必须         |\n",
    "| `on_messages_stream()`   | 支持流式输出时实现，边生成边返回消息。未实现时会用默认实现（调用 on_messages）。| 不必须 |\n",
    "\n",
    "\n",
    "参考：https://microsoft.github.io/autogen/dev/user-guide/agentchat-user-guide/custom-agents.html#custom-agents"
   ]
  },
  {
   "cell_type": "markdown",
   "id": "2192c89f",
   "metadata": {},
   "source": [
    "下面是一个定制 Agent 的例子。用于倒计时。"
   ]
  },
  {
   "cell_type": "code",
   "execution_count": 18,
   "id": "0e5d4a6e",
   "metadata": {},
   "outputs": [
    {
     "name": "stdout",
     "output_type": "stream",
     "text": [
      "source='countdown' models_usage=None metadata={} content='3...' type='TextMessage'\n",
      "source='countdown' models_usage=None metadata={} content='2...' type='TextMessage'\n",
      "source='countdown' models_usage=None metadata={} content='1...' type='TextMessage'\n",
      "source='countdown' models_usage=None metadata={} content='完成！' type='TextMessage'\n"
     ]
    }
   ],
   "source": [
    "from typing import AsyncGenerator, List, Sequence\n",
    "\n",
    "from autogen_agentchat.agents import BaseChatAgent\n",
    "from autogen_agentchat.base import Response\n",
    "from autogen_agentchat.messages import BaseAgentEvent, BaseChatMessage, TextMessage\n",
    "from autogen_core import CancellationToken\n",
    "\n",
    "# 定义一个自定义的倒计时 Agent\n",
    "class CountDownAgent(BaseChatAgent):\n",
    "    def __init__(self, name: str, count: int = 3):\n",
    "        super().__init__(name, \"一个简单的倒计时 Agent。\")\n",
    "        self._count = count\n",
    "\n",
    "    @property\n",
    "    def produced_message_types(self) -> Sequence[type[BaseChatMessage]]:\n",
    "        # 声明该 Agent 只会产生 TextMessage 类型的消息\n",
    "        return (TextMessage,)\n",
    "\n",
    "    async def on_messages(self, messages: Sequence[BaseChatMessage], cancellation_token: CancellationToken) -> Response:\n",
    "        # 调用 on_messages_stream 方法\n",
    "        response: Response | None = None\n",
    "        async for message in self.on_messages_stream(messages, cancellation_token):\n",
    "            if isinstance(message, Response):\n",
    "                response = message\n",
    "        assert response is not None\n",
    "        return response\n",
    "\n",
    "    async def on_messages_stream(\n",
    "        self, messages: Sequence[BaseChatMessage], cancellation_token: CancellationToken\n",
    "    ) -> AsyncGenerator[BaseAgentEvent | BaseChatMessage | Response, None]:\n",
    "        inner_messages: List[BaseAgentEvent | BaseChatMessage] = []\n",
    "        for i in range(self._count, 0, -1):\n",
    "            msg = TextMessage(content=f\"{i}...\", source=self.name)\n",
    "            inner_messages.append(msg)\n",
    "            yield msg\n",
    "        # 最后返回 Response，包含最终消息和所有中间消息\n",
    "        yield Response(chat_message=TextMessage(content=\"完成！\", source=self.name), inner_messages=inner_messages)\n",
    "\n",
    "    async def on_reset(self, cancellation_token: CancellationToken) -> None:\n",
    "        # 可选：重置 Agent 状态\n",
    "        pass\n",
    "\n",
    "# 运行倒计时 Agent 的示例\n",
    "async def run_countdown_agent() -> None:\n",
    "    # 创建一个倒计时 Agent\n",
    "    countdown_agent = CountDownAgent(\"countdown\")\n",
    "\n",
    "    # 运行 Agent，流式输出每条消息\n",
    "    async for message in countdown_agent.on_messages_stream([], CancellationToken()):\n",
    "        if isinstance(message, Response):\n",
    "            print(message.chat_message)\n",
    "        else:\n",
    "            print(message)\n",
    "\n",
    "# 在脚本中运行时请用 asyncio.run(run_countdown_agent())\n",
    "await run_countdown_agent()"
   ]
  }
 ],
 "metadata": {
  "kernelspec": {
   "display_name": "Python 3 (ipykernel)",
   "language": "python",
   "name": "python3"
  },
  "language_info": {
   "codemirror_mode": {
    "name": "ipython",
    "version": 3
   },
   "file_extension": ".py",
   "mimetype": "text/x-python",
   "name": "python",
   "nbconvert_exporter": "python",
   "pygments_lexer": "ipython3",
   "version": "3.11.11"
  }
 },
 "nbformat": 4,
 "nbformat_minor": 5
}
